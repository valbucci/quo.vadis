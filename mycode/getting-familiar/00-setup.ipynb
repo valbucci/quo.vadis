{
 "cells": [
  {
   "cell_type": "markdown",
   "metadata": {},
   "source": [
    "# Import Useful Data"
   ]
  },
  {
   "cell_type": "markdown",
   "metadata": {},
   "source": [
    "## Data Paths Setup"
   ]
  },
  {
   "cell_type": "code",
   "execution_count": null,
   "metadata": {},
   "outputs": [],
   "source": [
    "from pathlib import Path\n",
    "import sys\n",
    "\n",
    "ROOT_DIR = Path(\"../..\")\n",
    "sys.path.append(ROOT_DIR.as_posix())\n",
    "DATA_DIR = ROOT_DIR.joinpath(\"data\")\n",
    "\n",
    "EMULATED_DATA_DIR = DATA_DIR.joinpath(\"emulation.dataset\")\n",
    "assert EMULATED_DATA_DIR.exists()\n",
    "\n",
    "PATHS_DATA_DIR = DATA_DIR.joinpath(\"path.dataset\")\n",
    "assert PATHS_DATA_DIR.exists()\n",
    "PATHS_BENIGN_TXT = PATHS_DATA_DIR.joinpath(\"dataset_benign_win10.txt\")\n",
    "PATHS_MALICIOUS_TXT = PATHS_DATA_DIR.joinpath(\"dataset_malicious_augmented.txt\")\n",
    "assert PATHS_BENIGN_TXT.exists() and PATHS_MALICIOUS_TXT.exists()"
   ]
  },
  {
   "cell_type": "code",
   "execution_count": null,
   "metadata": {},
   "outputs": [],
   "source": [
    "\n",
    "PATHS_DATA_DIR = DATA_DIR.joinpath(\"path.dataset\")\n",
    "assert PATHS_DATA_DIR.exists()\n",
    "PATHS_BENIGN_TXT = PATHS_DATA_DIR.joinpath(\"dataset_benign_win10.txt\")\n",
    "PATHS_MALICIOUS_TXT = PATHS_DATA_DIR.joinpath(\"dataset_malicious_augmented.txt\")\n",
    "assert PATHS_BENIGN_TXT.exists() and PATHS_MALICIOUS_TXT.exists()"
   ]
  },
  {
   "cell_type": "markdown",
   "metadata": {},
   "source": [
    "## Importing the Datasets"
   ]
  },
  {
   "cell_type": "code",
   "execution_count": 2,
   "metadata": {},
   "outputs": [],
   "source": [
    "import pandas as pd\n",
    "import numpy as np\n",
    "from notebooks.misc.utils import get_api_sequences\n",
    "\n",
    "# Setting up the blank datasets dictionary \n",
    "datasets = { \n",
    "    # Dictionary where: data_type --[maps to]-> (X, y)\n",
    "    \"paths\": (None, None),\n",
    "    \"emulation\": (None, None)\n",
    "}"
   ]
  },
  {
   "cell_type": "markdown",
   "metadata": {},
   "source": [
    "### Importing Paths"
   ]
  },
  {
   "cell_type": "code",
   "execution_count": 42,
   "metadata": {},
   "outputs": [
    {
     "name": "stdout",
     "output_type": "stream",
     "text": [
      "Overall paths amount:\t 346689\n",
      "Benign paths amount:\t 122409\n",
      "Malicious paths amount:\t 224280\n"
     ]
    }
   ],
   "source": [
    "with open(PATHS_BENIGN_TXT, \"r\") as file:\n",
    "    benign_paths = file.readlines()\n",
    "    \n",
    "with open(PATHS_MALICIOUS_TXT, \"r\") as file:\n",
    "    malicious_paths = file.readlines()\n",
    "\n",
    "assert benign_paths is not None and malicious_paths is not None\n",
    "all_paths = []\n",
    "\n",
    "all_paths.extend(benign_paths)\n",
    "paths_is_malicious = [False for _ in benign_paths]\n",
    "\n",
    "all_paths.extend(malicious_paths)\n",
    "paths_is_malicious.extend([True for _ in malicious_paths])\n",
    "\n",
    "print(\"Overall paths amount:\\t\", len(all_paths))\n",
    "print(\"Benign paths amount:\\t\", len(benign_paths))\n",
    "print(\"Malicious paths amount:\\t\", len(malicious_paths))\n",
    "\n",
    "datasets[\"paths\"] = (all_paths, paths_is_malicious)"
   ]
  },
  {
   "cell_type": "markdown",
   "metadata": {},
   "source": [
    "### Importing Emulation Reports"
   ]
  },
  {
   "cell_type": "code",
   "execution_count": 4,
   "metadata": {},
   "outputs": [],
   "source": [
    "PRELOADED_APIS_PATH = Path(\"./api_sequences.pickle\")\n",
    "\n",
    "reports_df = None\n",
    "if PRELOADED_APIS_PATH.exists():\n",
    "    reports_df = pd.read_pickle(PRELOADED_APIS_PATH)\n",
    "else:\n",
    "    reports_df = get_api_sequences(EMULATED_DATA_DIR)\n",
    "    reports_df.to_pickle(PRELOADED_APIS_PATH)\n",
    "    \n",
    "reports_df.drop_duplicates(\"pe_hash\", keep=False, inplace=True)\n",
    "reports_df.reset_index(drop=True, inplace=True)\n",
    "\n",
    "datasets[\"emulation\"] = (reports_df[\"api_sequence\"].values,\n",
    "                         (reports_df[\"family\"] != \"clean\").values) "
   ]
  },
  {
   "cell_type": "code",
   "execution_count": 5,
   "metadata": {},
   "outputs": [
    {
     "data": {
      "text/plain": [
       "(array([('kernel32.getsystemtimeasfiletime', 'kernel32.getcurrentprocessid', 'kernel32.getcurrentthreadid', 'kernel32.gettickcount', 'kernel32.queryperformancecounter', 'kernel32.getstartupinfow', 'kernel32.heapsetinformation', 'kernel32.heapcreate', 'kernel32.getmodulehandlew', 'kernel32.getprocaddress', 'kernel32.getprocaddress', 'kernel32.getprocaddress', 'kernel32.getprocaddress', 'kernel32.tlsalloc', 'kernel32.tlssetvalue', 'kernel32.encodepointer', 'kernel32.encodepointer', 'kernel32.encodepointer', 'kernel32.encodepointer', 'kernel32.encodepointer', 'kernel32.encodepointer', 'kernel32.initializecriticalsectionandspincount', 'kernel32.initializecriticalsectionandspincount', 'kernel32.initializecriticalsectionandspincount', 'kernel32.initializecriticalsectionandspincount', 'kernel32.initializecriticalsectionandspincount', 'kernel32.initializecriticalsectionandspincount', 'kernel32.initializecriticalsectionandspincount', 'kernel32.initializecriticalsectionandspincount', 'kernel32.initializecriticalsectionandspincount', 'kernel32.initializecriticalsectionandspincount', 'kernel32.initializecriticalsectionandspincount', 'kernel32.initializecriticalsectionandspincount', 'kernel32.initializecriticalsectionandspincount', 'kernel32.initializecriticalsectionandspincount', 'kernel32.decodepointer', 'kernel32.flsalloc', 'kernel32.heapalloc', 'kernel32.decodepointer', 'kernel32.flssetvalue', 'kernel32.getmodulehandlew', 'kernel32.entercriticalsection', 'kernel32.interlockedincrement', 'kernel32.leavecriticalsection', 'kernel32.entercriticalsection', 'kernel32.interlockedincrement', 'kernel32.interlockedincrement', 'kernel32.leavecriticalsection', 'kernel32.getcurrentthreadid', 'kernel32.getstartupinfow', 'kernel32.heapalloc', 'kernel32.getstdhandle', 'kernel32.getfiletype', 'kernel32.initializecriticalsectionandspincount', 'kernel32.getstdhandle', 'kernel32.getfiletype', 'kernel32.initializecriticalsectionandspincount', 'kernel32.getstdhandle', 'kernel32.getfiletype', 'kernel32.initializecriticalsectionandspincount', 'kernel32.sethandlecount', 'kernel32.getcommandlinew', 'kernel32.getenvironmentstringsw', 'kernel32.heapalloc', 'kernel32.freeenvironmentstringsw', 'kernel32.getmodulefilenamew', 'kernel32.heapalloc', 'kernel32.heapalloc', 'kernel32.heapalloc', 'kernel32.heapfree', 'kernel32.encodepointer', 'kernel32.heapalloc', 'kernel32.encodepointer', 'kernel32.heapalloc', 'kernel32.getlasterror', 'kernel32.tlsgetvalue', 'kernel32.flsgetvalue', 'kernel32.setlasterror', 'kernel32.getlasterror', 'kernel32.tlsgetvalue', 'kernel32.flsgetvalue', 'kernel32.setlasterror', 'kernel32.entercriticalsection', 'kernel32.leavecriticalsection', 'kernel32.getlasterror', 'kernel32.tlsgetvalue', 'kernel32.flsgetvalue', 'kernel32.setlasterror', 'kernel32.getacp', 'kernel32.heapalloc', 'kernel32.getlasterror', 'kernel32.tlsgetvalue', 'kernel32.flsgetvalue', 'kernel32.setlasterror', 'kernel32.isvalidcodepage', 'kernel32.getcpinfo', 'kernel32.getcpinfo', 'kernel32.getlasterror', 'kernel32.tlsgetvalue', 'kernel32.flsgetvalue', 'kernel32.setlasterror', 'kernel32.multibytetowidechar', 'kernel32.multibytetowidechar', 'kernel32.getstringtypew', 'kernel32.getlasterror', 'kernel32.tlsgetvalue', 'kernel32.flsgetvalue', 'kernel32.setlasterror', 'kernel32.multibytetowidechar', 'kernel32.multibytetowidechar', 'kernel32.lcmapstringw', 'kernel32.lcmapstringw', 'kernel32.widechartomultibyte', 'kernel32.getlasterror', 'kernel32.tlsgetvalue', 'kernel32.flsgetvalue', 'kernel32.setlasterror', 'kernel32.multibytetowidechar', 'kernel32.multibytetowidechar', 'kernel32.lcmapstringw', 'kernel32.lcmapstringw', 'kernel32.widechartomultibyte', 'kernel32.interlockeddecrement', 'kernel32.interlockedincrement', 'kernel32.entercriticalsection', 'kernel32.interlockeddecrement', 'kernel32.interlockedincrement', 'kernel32.leavecriticalsection', 'kernel32.isprocessorfeaturepresent', 'kernel32.setunhandledexceptionfilter', 'kernel32.entercriticalsection', 'kernel32.decodepointer', 'kernel32.decodepointer', 'kernel32.heapsize', 'kernel32.encodepointer', 'kernel32.encodepointer', 'kernel32.leavecriticalsection', 'user32.loadstringw', 'user32.loadstringw', 'user32.loadiconw', 'user32.loadcursorw', 'user32.loadiconw', 'user32.registerclassexw', 'kernel32.getversionexw', 'kernel32.sleep', 'kernel32.gettemppathw', 'kernel32.entercriticalsection', 'kernel32.heapalloc', 'kernel32.entercriticalsection', 'kernel32.initializecriticalsectionandspincount', 'kernel32.leavecriticalsection', 'kernel32.entercriticalsection', 'kernel32.leavecriticalsection', 'kernel32.heapalloc', 'kernel32.entercriticalsection', 'kernel32.initializecriticalsectionandspincount', 'kernel32.leavecriticalsection', 'kernel32.entercriticalsection', 'kernel32.entercriticalsection', 'kernel32.initializecriticalsectionandspincount', 'kernel32.leavecriticalsection', 'kernel32.entercriticalsection', 'kernel32.leavecriticalsection', 'kernel32.createfilew', 'kernel32.getlasterror', 'kernel32.getlasterror', 'kernel32.tlsgetvalue', 'kernel32.flsgetvalue', 'kernel32.setlasterror', 'kernel32.getlasterror', 'kernel32.tlsgetvalue', 'kernel32.flsgetvalue', 'kernel32.setlasterror', 'kernel32.getlasterror', 'kernel32.tlsgetvalue', 'kernel32.flsgetvalue', 'kernel32.setlasterror', 'kernel32.leavecriticalsection', 'kernel32.leavecriticalsection', 'kernel32.getlasterror', 'kernel32.tlsgetvalue', 'kernel32.flsgetvalue', 'kernel32.setlasterror', 'kernel32.gettemppathw', 'kernel32.entercriticalsection', 'kernel32.entercriticalsection', 'kernel32.leavecriticalsection', 'kernel32.entercriticalsection', 'kernel32.entercriticalsection', 'kernel32.leavecriticalsection', 'kernel32.createfilew', 'kernel32.getlasterror', 'kernel32.getlasterror', 'kernel32.tlsgetvalue', 'kernel32.flsgetvalue', 'kernel32.setlasterror', 'kernel32.getlasterror', 'kernel32.tlsgetvalue', 'kernel32.flsgetvalue', 'kernel32.setlasterror', 'kernel32.getlasterror', 'kernel32.tlsgetvalue', 'kernel32.flsgetvalue', 'kernel32.setlasterror', 'kernel32.leavecriticalsection', 'kernel32.leavecriticalsection', 'kernel32.getlasterror', 'kernel32.tlsgetvalue', 'kernel32.flsgetvalue', 'kernel32.setlasterror', 'kernel32.getmodulefilenamew', 'kernel32.gettemppathw', 'kernel32.getfileattributesw', 'kernel32.gettickcount', 'kernel32.getlasterror', 'kernel32.tlsgetvalue', 'kernel32.flsgetvalue', 'kernel32.setlasterror', 'kernel32.getlasterror', 'kernel32.tlsgetvalue', 'kernel32.flsgetvalue', 'kernel32.setlasterror', 'kernel32.getlasterror', 'kernel32.tlsgetvalue', 'kernel32.flsgetvalue', 'kernel32.setlasterror', 'kernel32.getlasterror', 'kernel32.tlsgetvalue', 'kernel32.flsgetvalue', 'kernel32.setlasterror', 'kernel32.getlasterror', 'kernel32.tlsgetvalue', 'kernel32.flsgetvalue', 'kernel32.setlasterror', 'kernel32.getlasterror', 'kernel32.tlsgetvalue', 'kernel32.flsgetvalue', 'kernel32.setlasterror', 'kernel32.getlasterror', 'kernel32.tlsgetvalue', 'kernel32.flsgetvalue', 'kernel32.setlasterror', 'kernel32.getlasterror', 'kernel32.tlsgetvalue', 'kernel32.flsgetvalue', 'kernel32.setlasterror', 'kernel32.getlasterror', 'kernel32.tlsgetvalue', 'kernel32.flsgetvalue', 'kernel32.setlasterror', 'kernel32.getlasterror', 'kernel32.tlsgetvalue', 'kernel32.flsgetvalue', 'kernel32.setlasterror', 'kernel32.getlasterror', 'kernel32.tlsgetvalue', 'kernel32.flsgetvalue', 'kernel32.setlasterror', 'kernel32.getlasterror', 'kernel32.tlsgetvalue', 'kernel32.flsgetvalue', 'kernel32.setlasterror', 'kernel32.getlasterror', 'kernel32.tlsgetvalue', 'kernel32.flsgetvalue', 'kernel32.setlasterror', 'kernel32.getlasterror', 'kernel32.tlsgetvalue', 'kernel32.flsgetvalue', 'kernel32.setlasterror', 'kernel32.getlasterror', 'kernel32.tlsgetvalue', 'kernel32.flsgetvalue', 'kernel32.setlasterror', 'kernel32.getlasterror', 'kernel32.tlsgetvalue', 'kernel32.flsgetvalue', 'kernel32.setlasterror', 'kernel32.getlasterror', 'kernel32.tlsgetvalue', 'kernel32.flsgetvalue', 'kernel32.setlasterror', 'kernel32.getlasterror', 'kernel32.tlsgetvalue', 'kernel32.flsgetvalue', 'kernel32.setlasterror', 'kernel32.getlasterror', 'kernel32.tlsgetvalue', 'kernel32.flsgetvalue', 'kernel32.setlasterror', 'kernel32.getlasterror', 'kernel32.tlsgetvalue', 'kernel32.flsgetvalue', 'kernel32.setlasterror', 'kernel32.getlasterror', 'kernel32.tlsgetvalue', 'kernel32.flsgetvalue', 'kernel32.setlasterror', 'kernel32.getlasterror', 'kernel32.tlsgetvalue', 'kernel32.flsgetvalue', 'kernel32.setlasterror', 'kernel32.getlasterror', 'kernel32.tlsgetvalue', 'kernel32.flsgetvalue', 'kernel32.setlasterror', 'kernel32.getlasterror', 'kernel32.tlsgetvalue', 'kernel32.flsgetvalue', 'kernel32.setlasterror', 'kernel32.getlasterror', 'kernel32.tlsgetvalue', 'kernel32.flsgetvalue', 'kernel32.setlasterror', 'kernel32.getlasterror', 'kernel32.tlsgetvalue', 'kernel32.flsgetvalue', 'kernel32.setlasterror', 'kernel32.getlasterror', 'kernel32.tlsgetvalue', 'kernel32.flsgetvalue', 'kernel32.setlasterror', 'kernel32.getlasterror', 'kernel32.tlsgetvalue', 'kernel32.flsgetvalue', 'kernel32.setlasterror', 'kernel32.getlasterror', 'kernel32.tlsgetvalue', 'kernel32.flsgetvalue', 'kernel32.setlasterror', 'kernel32.getlasterror', 'kernel32.tlsgetvalue', 'kernel32.flsgetvalue', 'kernel32.setlasterror', 'kernel32.getlasterror', 'kernel32.tlsgetvalue', 'kernel32.flsgetvalue', 'kernel32.setlasterror', 'kernel32.gettemppathw', 'kernel32.entercriticalsection', 'kernel32.entercriticalsection', 'kernel32.leavecriticalsection', 'kernel32.entercriticalsection', 'kernel32.entercriticalsection', 'kernel32.leavecriticalsection', 'kernel32.createfilew', 'kernel32.getfiletype', 'kernel32.leavecriticalsection', 'kernel32.leavecriticalsection', 'kernel32.entercriticalsection', 'kernel32.heapalloc', 'kernel32.entercriticalsection', 'kernel32.writefile', 'kernel32.getlasterror', 'kernel32.tlsgetvalue', 'kernel32.flsgetvalue', 'kernel32.setlasterror', 'kernel32.getlasterror', 'kernel32.tlsgetvalue', 'kernel32.flsgetvalue', 'kernel32.setlasterror', 'kernel32.leavecriticalsection', 'kernel32.heapfree', 'kernel32.entercriticalsection', 'kernel32.closehandle', 'kernel32.leavecriticalsection', 'kernel32.leavecriticalsection', 'kernel32.gettemppathw', 'user32.wsprintfw', 'kernel32.entercriticalsection', 'kernel32.entercriticalsection', 'kernel32.leavecriticalsection', 'kernel32.entercriticalsection', 'kernel32.entercriticalsection', 'kernel32.leavecriticalsection', 'kernel32.createfilew', 'kernel32.getfiletype', 'kernel32.leavecriticalsection', 'kernel32.leavecriticalsection', 'kernel32.entercriticalsection', 'kernel32.entercriticalsection', 'kernel32.setfilepointer', 'kernel32.leavecriticalsection', 'kernel32.leavecriticalsection', 'kernel32.entercriticalsection', 'kernel32.entercriticalsection', 'kernel32.setfilepointer', 'kernel32.leavecriticalsection', 'kernel32.leavecriticalsection', 'kernel32.entercriticalsection', 'kernel32.entercriticalsection', 'kernel32.setfilepointer', 'kernel32.leavecriticalsection', 'kernel32.leavecriticalsection', 'kernel32.heapalloc', 'kernel32.entercriticalsection', 'kernel32.entercriticalsection', 'kernel32.readfile', 'kernel32.leavecriticalsection', 'kernel32.heapalloc', 'kernel32.entercriticalsection', 'kernel32.readfile', 'kernel32.leavecriticalsection', 'kernel32.leavecriticalsection', 'kernel32.entercriticalsection', 'kernel32.heapfree', 'kernel32.entercriticalsection', 'kernel32.closehandle', 'kernel32.leavecriticalsection', 'kernel32.leavecriticalsection', 'kernel32.gettickcount', 'kernel32.getlasterror', 'kernel32.tlsgetvalue', 'kernel32.flsgetvalue', 'kernel32.setlasterror', 'kernel32.getlasterror', 'kernel32.tlsgetvalue', 'kernel32.flsgetvalue', 'kernel32.setlasterror', 'kernel32.getlasterror', 'kernel32.tlsgetvalue', 'kernel32.flsgetvalue', 'kernel32.setlasterror', 'kernel32.getlasterror', 'kernel32.tlsgetvalue', 'kernel32.flsgetvalue', 'kernel32.setlasterror', 'kernel32.getlasterror', 'kernel32.tlsgetvalue', 'kernel32.flsgetvalue', 'kernel32.setlasterror', 'kernel32.getlasterror', 'kernel32.tlsgetvalue', 'kernel32.flsgetvalue', 'kernel32.setlasterror', 'kernel32.getlasterror', 'kernel32.tlsgetvalue', 'kernel32.flsgetvalue', 'kernel32.setlasterror', 'kernel32.getlasterror', 'kernel32.tlsgetvalue', 'kernel32.flsgetvalue', 'kernel32.setlasterror', 'kernel32.getlasterror', 'kernel32.tlsgetvalue', 'kernel32.flsgetvalue', 'kernel32.setlasterror', 'kernel32.getlasterror', 'kernel32.tlsgetvalue', 'kernel32.flsgetvalue', 'kernel32.setlasterror', 'kernel32.getlasterror', 'kernel32.tlsgetvalue', 'kernel32.flsgetvalue', 'kernel32.setlasterror', 'kernel32.getlasterror', 'kernel32.tlsgetvalue', 'kernel32.flsgetvalue', 'kernel32.setlasterror', 'kernel32.getlasterror', 'kernel32.tlsgetvalue', 'kernel32.flsgetvalue', 'kernel32.setlasterror', 'kernel32.entercriticalsection', 'kernel32.entercriticalsection', 'kernel32.leavecriticalsection', 'kernel32.entercriticalsection', 'kernel32.entercriticalsection', 'kernel32.leavecriticalsection', 'kernel32.createfilew', 'kernel32.getfiletype', 'kernel32.leavecriticalsection', 'kernel32.leavecriticalsection', 'kernel32.entercriticalsection', 'kernel32.entercriticalsection', 'kernel32.writefile', 'kernel32.getlasterror', 'kernel32.tlsgetvalue', 'kernel32.flsgetvalue', 'kernel32.setlasterror', 'kernel32.getlasterror', 'kernel32.tlsgetvalue', 'kernel32.flsgetvalue', 'kernel32.setlasterror', 'kernel32.leavecriticalsection', 'kernel32.leavecriticalsection', 'kernel32.entercriticalsection', 'kernel32.entercriticalsection', 'kernel32.closehandle', 'kernel32.leavecriticalsection'),\n",
       "        ('kernel32.virtualalloc', 'kernel32.virtualfree', 'kernel32.virtualprotect', 'kernel32.virtualalloc', 'kernel32.virtualfree', 'kernel32.virtualprotect', 'kernel32.getmodulehandlea', 'kernel32.getprocaddress', 'kernel32.getprocaddress', 'kernel32.getprocaddress', 'kernel32.getprocaddress', 'kernel32.getprocaddress', 'kernel32.getprocaddress', 'kernel32.getprocaddress', 'kernel32.getprocaddress', 'kernel32.getprocaddress', 'kernel32.getprocaddress', 'kernel32.getprocaddress', 'kernel32.getprocaddress', 'kernel32.getprocaddress', 'kernel32.getprocaddress', 'kernel32.getprocaddress', 'kernel32.getprocaddress', 'kernel32.getprocaddress', 'kernel32.getprocaddress', 'kernel32.getprocaddress', 'kernel32.getprocaddress', 'kernel32.getprocaddress', 'kernel32.getprocaddress', 'kernel32.getprocaddress', 'kernel32.getprocaddress', 'kernel32.getprocaddress', 'kernel32.getprocaddress', 'kernel32.getprocaddress', 'kernel32.getprocaddress', 'kernel32.getprocaddress', 'kernel32.getprocaddress', 'kernel32.getprocaddress', 'kernel32.getprocaddress', 'kernel32.getprocaddress', 'kernel32.getprocaddress', 'kernel32.getprocaddress', 'kernel32.getprocaddress', 'kernel32.getprocaddress', 'kernel32.getprocaddress', 'kernel32.getprocaddress', 'kernel32.getprocaddress', 'kernel32.getprocaddress', 'kernel32.getprocaddress', 'kernel32.getprocaddress', 'kernel32.getprocaddress', 'kernel32.getprocaddress', 'kernel32.getprocaddress', 'kernel32.getprocaddress', 'kernel32.getprocaddress', 'kernel32.getprocaddress', 'kernel32.getprocaddress', 'kernel32.getprocaddress', 'kernel32.getprocaddress', 'kernel32.getprocaddress', 'kernel32.getprocaddress', 'kernel32.getprocaddress', 'kernel32.getprocaddress', 'kernel32.getprocaddress', 'kernel32.getprocaddress', 'kernel32.getprocaddress', 'kernel32.getprocaddress', 'kernel32.getprocaddress', 'kernel32.getprocaddress', 'kernel32.getprocaddress', 'kernel32.getprocaddress', 'kernel32.getprocaddress', 'kernel32.getprocaddress', 'kernel32.getprocaddress', 'kernel32.getprocaddress', 'kernel32.getprocaddress', 'kernel32.getprocaddress', 'kernel32.getprocaddress', 'kernel32.getprocaddress', 'kernel32.getprocaddress', 'kernel32.getprocaddress', 'kernel32.getprocaddress', 'kernel32.getprocaddress', 'kernel32.getprocaddress', 'kernel32.getprocaddress', 'kernel32.getprocaddress', 'kernel32.getprocaddress', 'kernel32.getprocaddress', 'kernel32.getprocaddress', 'kernel32.getprocaddress', 'kernel32.getmodulehandlea', 'kernel32.getprocaddress', 'kernel32.getprocaddress', 'kernel32.getprocaddress', 'kernel32.getprocaddress', 'kernel32.getprocaddress', 'kernel32.getprocaddress', 'kernel32.getprocaddress', 'kernel32.getprocaddress', 'kernel32.getprocaddress', 'kernel32.getprocaddress', 'kernel32.getprocaddress', 'kernel32.getmodulehandlea', 'kernel32.getprocaddress', 'kernel32.getprocaddress', 'kernel32.getprocaddress', 'kernel32.getprocaddress', 'kernel32.getmodulehandlea', 'kernel32.getprocaddress', 'kernel32.getprocaddress', 'kernel32.getmodulehandlea', 'kernel32.getprocaddress', 'kernel32.getprocaddress', 'kernel32.getprocaddress', 'kernel32.getprocaddress', 'kernel32.getprocaddress', 'kernel32.getprocaddress', 'kernel32.getprocaddress', 'kernel32.getprocaddress', 'kernel32.getprocaddress', 'kernel32.getprocaddress', 'kernel32.getprocaddress', 'kernel32.getprocaddress', 'kernel32.getmodulehandlea', 'kernel32.getprocaddress', 'kernel32.getsystemtimeasfiletime', 'kernel32.getcurrentprocessid', 'kernel32.getcurrentthreadid', 'kernel32.gettickcount', 'kernel32.queryperformancecounter', 'kernel32.getstartupinfow', 'kernel32.heapcreate', 'kernel32.getmodulehandlew', 'kernel32.getprocaddress', 'kernel32.getprocaddress', 'kernel32.getprocaddress', 'kernel32.getprocaddress', 'kernel32.tlsalloc', 'kernel32.tlssetvalue', 'kernel32.tlsgetvalue', 'kernel32.getmodulehandlew', 'kernel32.getprocaddress', 'kernel32.encodepointer', 'kernel32.tlsgetvalue', 'kernel32.getmodulehandlew', 'kernel32.getprocaddress', 'kernel32.encodepointer', 'kernel32.tlsgetvalue', 'kernel32.getmodulehandlew', 'kernel32.getprocaddress', 'kernel32.encodepointer', 'kernel32.tlsgetvalue', 'kernel32.getmodulehandlew', 'kernel32.getprocaddress', 'kernel32.encodepointer', 'kernel32.tlsgetvalue', 'kernel32.getmodulehandlew', 'kernel32.getprocaddress', 'kernel32.encodepointer', 'kernel32.tlsgetvalue', 'kernel32.getmodulehandlew', 'kernel32.getprocaddress', 'kernel32.encodepointer', 'kernel32.tlsgetvalue', 'kernel32.getmodulehandlew', 'kernel32.getprocaddress', 'kernel32.encodepointer', 'kernel32.initializecriticalsectionandspincount', 'kernel32.initializecriticalsectionandspincount', 'kernel32.initializecriticalsectionandspincount', 'kernel32.initializecriticalsectionandspincount', 'kernel32.initializecriticalsectionandspincount', 'kernel32.initializecriticalsectionandspincount', 'kernel32.initializecriticalsectionandspincount', 'kernel32.initializecriticalsectionandspincount', 'kernel32.initializecriticalsectionandspincount', 'kernel32.initializecriticalsectionandspincount', 'kernel32.initializecriticalsectionandspincount', 'kernel32.initializecriticalsectionandspincount', 'kernel32.initializecriticalsectionandspincount', 'kernel32.initializecriticalsectionandspincount', 'kernel32.tlsgetvalue', 'kernel32.getmodulehandlew', 'kernel32.getprocaddress', 'kernel32.decodepointer', 'kernel32.flsalloc', 'kernel32.heapalloc', 'kernel32.tlsgetvalue', 'kernel32.tlsgetvalue', 'kernel32.flsgetvalue', 'kernel32.getmodulehandlew', 'kernel32.getprocaddress', 'kernel32.decodepointer', 'kernel32.flssetvalue', 'kernel32.getmodulehandlew', 'kernel32.getprocaddress', 'kernel32.getprocaddress', 'kernel32.entercriticalsection', 'kernel32.interlockedincrement', 'kernel32.leavecriticalsection', 'kernel32.entercriticalsection', 'kernel32.interlockedincrement', 'kernel32.interlockedincrement', 'kernel32.leavecriticalsection', 'kernel32.getcurrentthreadid', 'kernel32.getstartupinfoa', 'kernel32.heapalloc', 'kernel32.getstdhandle', 'kernel32.getfiletype', 'kernel32.initializecriticalsectionandspincount', 'kernel32.getstdhandle', 'kernel32.getfiletype', 'kernel32.initializecriticalsectionandspincount', 'kernel32.getstdhandle', 'kernel32.getfiletype', 'kernel32.initializecriticalsectionandspincount', 'kernel32.sethandlecount', 'kernel32.getcommandlinew', 'kernel32.getenvironmentstringsw', 'kernel32.heapalloc', 'kernel32.freeenvironmentstringsw', 'kernel32.getmodulefilenamew', 'kernel32.heapalloc', 'kernel32.heapalloc', 'kernel32.heapalloc', 'kernel32.heapfree', 'kernel32.tlsgetvalue', 'kernel32.tlsgetvalue', 'kernel32.flsgetvalue', 'kernel32.encodepointer', 'kernel32.tlsgetvalue', 'kernel32.tlsgetvalue', 'kernel32.flsgetvalue', 'kernel32.encodepointer', 'kernel32.tlsgetvalue', 'kernel32.tlsgetvalue', 'kernel32.flsgetvalue', 'kernel32.encodepointer', 'kernel32.tlsgetvalue', 'kernel32.tlsgetvalue', 'kernel32.flsgetvalue', 'kernel32.encodepointer', 'kernel32.tlsgetvalue', 'kernel32.tlsgetvalue', 'kernel32.flsgetvalue', 'kernel32.encodepointer', 'kernel32.tlsgetvalue', 'kernel32.tlsgetvalue', 'kernel32.flsgetvalue', 'kernel32.encodepointer', 'kernel32.tlsgetvalue', 'kernel32.tlsgetvalue', 'kernel32.flsgetvalue', 'kernel32.encodepointer', 'kernel32.tlsgetvalue', 'kernel32.tlsgetvalue', 'kernel32.flsgetvalue', 'kernel32.encodepointer', 'kernel32.tlsgetvalue', 'kernel32.tlsgetvalue', 'kernel32.flsgetvalue', 'kernel32.encodepointer', 'kernel32.tlsgetvalue', 'kernel32.tlsgetvalue', 'kernel32.flsgetvalue', 'kernel32.encodepointer', 'kernel32.heapalloc', 'kernel32.heapalloc', 'kernel32.tlsgetvalue', 'kernel32.tlsgetvalue', 'kernel32.flsgetvalue', 'kernel32.encodepointer', 'kernel32.getlasterror', 'kernel32.tlsgetvalue', 'kernel32.flsgetvalue', 'kernel32.setlasterror', 'kernel32.getlasterror', 'kernel32.tlsgetvalue', 'kernel32.flsgetvalue', 'kernel32.setlasterror', 'kernel32.entercriticalsection', 'kernel32.leavecriticalsection', 'kernel32.getlasterror', 'kernel32.tlsgetvalue', 'kernel32.flsgetvalue', 'kernel32.setlasterror', 'kernel32.getacp', 'kernel32.heapalloc', 'kernel32.getlasterror', 'kernel32.tlsgetvalue', 'kernel32.flsgetvalue', 'kernel32.setlasterror', 'kernel32.isvalidcodepage', 'kernel32.getcpinfo', 'kernel32.getcpinfo', 'kernel32.getlasterror', 'kernel32.tlsgetvalue', 'kernel32.flsgetvalue', 'kernel32.setlasterror', 'kernel32.getstringtypew', 'kernel32.multibytetowidechar', 'kernel32.multibytetowidechar', 'kernel32.getstringtypew', 'kernel32.getlasterror', 'kernel32.tlsgetvalue', 'kernel32.flsgetvalue', 'kernel32.setlasterror', 'kernel32.lcmapstringw', 'kernel32.multibytetowidechar', 'kernel32.multibytetowidechar', 'kernel32.lcmapstringw', 'kernel32.lcmapstringw', 'kernel32.widechartomultibyte', 'kernel32.getlasterror', 'kernel32.tlsgetvalue', 'kernel32.flsgetvalue', 'kernel32.setlasterror', 'kernel32.multibytetowidechar', 'kernel32.multibytetowidechar', 'kernel32.lcmapstringw', 'kernel32.lcmapstringw', 'kernel32.widechartomultibyte', 'kernel32.interlockeddecrement', 'kernel32.interlockedincrement', 'kernel32.entercriticalsection', 'kernel32.interlockeddecrement', 'kernel32.interlockedincrement', 'kernel32.leavecriticalsection', 'kernel32.setunhandledexceptionfilter', 'kernel32.entercriticalsection', 'kernel32.tlsgetvalue', 'kernel32.tlsgetvalue', 'kernel32.flsgetvalue', 'kernel32.decodepointer', 'kernel32.tlsgetvalue', 'kernel32.tlsgetvalue', 'kernel32.flsgetvalue', 'kernel32.decodepointer', 'kernel32.heapsize', 'kernel32.tlsgetvalue', 'kernel32.tlsgetvalue', 'kernel32.flsgetvalue', 'kernel32.encodepointer', 'kernel32.tlsgetvalue', 'kernel32.tlsgetvalue', 'kernel32.flsgetvalue', 'kernel32.encodepointer', 'kernel32.leavecriticalsection', 'user32.loadstringw', 'user32.loadstringw', 'user32.loadiconw', 'user32.loadcursorw', 'user32.loadiconw', 'user32.registerclassexw', 'user32.createwindowexw', 'user32.loadacceleratorsw', 'kernel32.sleep', 'kernel32.getversionexw', 'kernel32.gettemppathw', 'kernel32.deletefilew', 'kernel32.getmodulefilenamew', 'kernel32.gettemppathw', 'kernel32.entercriticalsection', 'kernel32.heapalloc', 'kernel32.entercriticalsection', 'kernel32.initializecriticalsectionandspincount', 'kernel32.leavecriticalsection', 'kernel32.entercriticalsection', 'kernel32.leavecriticalsection', 'kernel32.heapalloc', 'kernel32.entercriticalsection', 'kernel32.initializecriticalsectionandspincount', 'kernel32.leavecriticalsection', 'kernel32.entercriticalsection', 'kernel32.entercriticalsection', 'kernel32.initializecriticalsectionandspincount', 'kernel32.leavecriticalsection', 'kernel32.entercriticalsection', 'kernel32.leavecriticalsection', 'kernel32.createfilew', 'kernel32.getlasterror', 'kernel32.getlasterror', 'kernel32.tlsgetvalue', 'kernel32.flsgetvalue', 'kernel32.setlasterror', 'kernel32.getlasterror', 'kernel32.tlsgetvalue', 'kernel32.flsgetvalue', 'kernel32.setlasterror', 'kernel32.getlasterror', 'kernel32.tlsgetvalue', 'kernel32.flsgetvalue', 'kernel32.setlasterror', 'kernel32.leavecriticalsection', 'kernel32.leavecriticalsection', 'kernel32.getlasterror', 'kernel32.tlsgetvalue', 'kernel32.flsgetvalue', 'kernel32.setlasterror', 'kernel32.getsystemdirectoryw', 'kernel32.getlasterror', 'kernel32.tlsgetvalue', 'kernel32.flsgetvalue', 'kernel32.setlasterror', 'kernel32.createfilew', 'kernel32.closehandle', 'kernel32.createfilew', 'kernel32.gettemppathw', 'kernel32.entercriticalsection', 'kernel32.entercriticalsection', 'kernel32.leavecriticalsection', 'kernel32.entercriticalsection', 'kernel32.entercriticalsection', 'kernel32.leavecriticalsection', 'kernel32.createfilew', 'kernel32.getlasterror', 'kernel32.getlasterror', 'kernel32.tlsgetvalue', 'kernel32.flsgetvalue', 'kernel32.setlasterror', 'kernel32.getlasterror', 'kernel32.tlsgetvalue', 'kernel32.flsgetvalue', 'kernel32.setlasterror', 'kernel32.getlasterror', 'kernel32.tlsgetvalue', 'kernel32.flsgetvalue', 'kernel32.setlasterror', 'kernel32.leavecriticalsection', 'kernel32.leavecriticalsection', 'kernel32.getlasterror', 'kernel32.tlsgetvalue', 'kernel32.flsgetvalue', 'kernel32.setlasterror', 'kernel32.gettemppathw', 'kernel32.entercriticalsection', 'kernel32.entercriticalsection', 'kernel32.leavecriticalsection', 'kernel32.entercriticalsection', 'kernel32.entercriticalsection', 'kernel32.leavecriticalsection', 'kernel32.createfilew', 'kernel32.getfiletype', 'kernel32.leavecriticalsection', 'kernel32.leavecriticalsection', 'kernel32.entercriticalsection', 'kernel32.heapalloc', 'kernel32.entercriticalsection', 'kernel32.writefile', 'kernel32.getlasterror', 'kernel32.tlsgetvalue', 'kernel32.flsgetvalue', 'kernel32.setlasterror', 'kernel32.getlasterror', 'kernel32.tlsgetvalue', 'kernel32.flsgetvalue', 'kernel32.setlasterror', 'kernel32.leavecriticalsection', 'kernel32.heapfree', 'kernel32.entercriticalsection', 'kernel32.closehandle', 'kernel32.leavecriticalsection', 'kernel32.leavecriticalsection', 'kernel32.gettemppathw', 'user32.wsprintfw', 'kernel32.getmodulefilenamew', 'kernel32.gettickcount', 'kernel32.entercriticalsection', 'kernel32.entercriticalsection', 'kernel32.leavecriticalsection', 'kernel32.entercriticalsection', 'kernel32.entercriticalsection', 'kernel32.leavecriticalsection', 'kernel32.createfilew', 'kernel32.getfiletype', 'kernel32.leavecriticalsection', 'kernel32.leavecriticalsection', 'kernel32.entercriticalsection', 'kernel32.entercriticalsection', 'kernel32.setfilepointer', 'kernel32.leavecriticalsection', 'kernel32.leavecriticalsection', 'kernel32.entercriticalsection', 'kernel32.entercriticalsection', 'kernel32.setfilepointer', 'kernel32.leavecriticalsection', 'kernel32.leavecriticalsection', 'kernel32.entercriticalsection', 'kernel32.entercriticalsection', 'kernel32.setfilepointer', 'kernel32.leavecriticalsection', 'kernel32.leavecriticalsection', 'kernel32.heapalloc', 'kernel32.entercriticalsection', 'kernel32.entercriticalsection', 'kernel32.readfile', 'kernel32.leavecriticalsection', 'kernel32.heapalloc', 'kernel32.entercriticalsection'),\n",
       "        ('kernel32.getsystemtimeasfiletime', 'kernel32.getcurrentprocessid', 'kernel32.getcurrentthreadid', 'kernel32.gettickcount', 'kernel32.queryperformancecounter', 'kernel32.getstartupinfow', 'kernel32.heapcreate', 'kernel32.getmodulehandlew', 'kernel32.getprocaddress', 'kernel32.getprocaddress', 'kernel32.getprocaddress', 'kernel32.getprocaddress', 'kernel32.tlsalloc', 'kernel32.tlssetvalue', 'kernel32.tlsgetvalue', 'kernel32.getmodulehandlew', 'kernel32.getprocaddress', 'kernel32.encodepointer', 'kernel32.tlsgetvalue', 'kernel32.getmodulehandlew', 'kernel32.getprocaddress', 'kernel32.encodepointer', 'kernel32.tlsgetvalue', 'kernel32.getmodulehandlew', 'kernel32.getprocaddress', 'kernel32.encodepointer', 'kernel32.tlsgetvalue', 'kernel32.getmodulehandlew', 'kernel32.getprocaddress', 'kernel32.encodepointer', 'kernel32.tlsgetvalue', 'kernel32.getmodulehandlew', 'kernel32.getprocaddress', 'kernel32.encodepointer', 'kernel32.tlsgetvalue', 'kernel32.getmodulehandlew', 'kernel32.getprocaddress', 'kernel32.encodepointer', 'kernel32.tlsgetvalue', 'kernel32.getmodulehandlew', 'kernel32.getprocaddress', 'kernel32.encodepointer', 'kernel32.initializecriticalsectionandspincount', 'kernel32.initializecriticalsectionandspincount', 'kernel32.initializecriticalsectionandspincount', 'kernel32.initializecriticalsectionandspincount', 'kernel32.initializecriticalsectionandspincount', 'kernel32.initializecriticalsectionandspincount', 'kernel32.initializecriticalsectionandspincount', 'kernel32.initializecriticalsectionandspincount', 'kernel32.initializecriticalsectionandspincount', 'kernel32.initializecriticalsectionandspincount', 'kernel32.initializecriticalsectionandspincount', 'kernel32.initializecriticalsectionandspincount', 'kernel32.initializecriticalsectionandspincount', 'kernel32.initializecriticalsectionandspincount', 'kernel32.tlsgetvalue', 'kernel32.getmodulehandlew', 'kernel32.getprocaddress', 'kernel32.decodepointer', 'kernel32.flsalloc', 'kernel32.heapalloc', 'kernel32.tlsgetvalue', 'kernel32.tlsgetvalue', 'kernel32.flsgetvalue', 'kernel32.getmodulehandlew', 'kernel32.getprocaddress', 'kernel32.decodepointer', 'kernel32.flssetvalue', 'kernel32.getmodulehandlew', 'kernel32.getprocaddress', 'kernel32.getprocaddress', 'kernel32.entercriticalsection', 'kernel32.interlockedincrement', 'kernel32.leavecriticalsection', 'kernel32.entercriticalsection', 'kernel32.interlockedincrement', 'kernel32.interlockedincrement', 'kernel32.leavecriticalsection', 'kernel32.getcurrentthreadid', 'kernel32.getstartupinfoa', 'kernel32.heapalloc', 'kernel32.getstdhandle', 'kernel32.getfiletype', 'kernel32.initializecriticalsectionandspincount', 'kernel32.getstdhandle', 'kernel32.getfiletype', 'kernel32.initializecriticalsectionandspincount', 'kernel32.getstdhandle', 'kernel32.getfiletype', 'kernel32.initializecriticalsectionandspincount', 'kernel32.sethandlecount', 'kernel32.getcommandlinew', 'kernel32.getenvironmentstringsw', 'kernel32.heapalloc', 'kernel32.freeenvironmentstringsw', 'kernel32.getmodulefilenamew', 'kernel32.heapalloc', 'kernel32.heapalloc', 'kernel32.heapalloc', 'kernel32.heapfree', 'kernel32.tlsgetvalue', 'kernel32.tlsgetvalue', 'kernel32.flsgetvalue', 'kernel32.encodepointer', 'kernel32.tlsgetvalue', 'kernel32.tlsgetvalue', 'kernel32.flsgetvalue', 'kernel32.encodepointer', 'kernel32.tlsgetvalue', 'kernel32.tlsgetvalue', 'kernel32.flsgetvalue', 'kernel32.encodepointer', 'kernel32.tlsgetvalue', 'kernel32.tlsgetvalue', 'kernel32.flsgetvalue', 'kernel32.encodepointer', 'kernel32.tlsgetvalue', 'kernel32.tlsgetvalue', 'kernel32.flsgetvalue', 'kernel32.encodepointer', 'kernel32.tlsgetvalue', 'kernel32.tlsgetvalue', 'kernel32.flsgetvalue', 'kernel32.encodepointer', 'kernel32.tlsgetvalue', 'kernel32.tlsgetvalue', 'kernel32.flsgetvalue', 'kernel32.encodepointer', 'kernel32.tlsgetvalue', 'kernel32.tlsgetvalue', 'kernel32.flsgetvalue', 'kernel32.encodepointer', 'kernel32.tlsgetvalue', 'kernel32.tlsgetvalue', 'kernel32.flsgetvalue', 'kernel32.encodepointer', 'kernel32.tlsgetvalue', 'kernel32.tlsgetvalue', 'kernel32.flsgetvalue', 'kernel32.encodepointer', 'kernel32.heapalloc', 'kernel32.tlsgetvalue', 'kernel32.tlsgetvalue', 'kernel32.flsgetvalue', 'kernel32.encodepointer', 'kernel32.heapalloc', 'kernel32.getlasterror', 'kernel32.tlsgetvalue', 'kernel32.flsgetvalue', 'kernel32.setlasterror', 'kernel32.getlasterror', 'kernel32.tlsgetvalue', 'kernel32.flsgetvalue', 'kernel32.setlasterror', 'kernel32.entercriticalsection', 'kernel32.leavecriticalsection', 'kernel32.getlasterror', 'kernel32.tlsgetvalue', 'kernel32.flsgetvalue', 'kernel32.setlasterror', 'kernel32.getacp', 'kernel32.heapalloc', 'kernel32.getlasterror', 'kernel32.tlsgetvalue', 'kernel32.flsgetvalue', 'kernel32.setlasterror', 'kernel32.isvalidcodepage', 'kernel32.getcpinfo', 'kernel32.getcpinfo', 'kernel32.getlasterror', 'kernel32.tlsgetvalue', 'kernel32.flsgetvalue', 'kernel32.setlasterror', 'kernel32.getstringtypew', 'kernel32.multibytetowidechar', 'kernel32.multibytetowidechar', 'kernel32.getstringtypew', 'kernel32.getlasterror', 'kernel32.tlsgetvalue', 'kernel32.flsgetvalue', 'kernel32.setlasterror', 'kernel32.lcmapstringw', 'kernel32.multibytetowidechar', 'kernel32.multibytetowidechar', 'kernel32.lcmapstringw', 'kernel32.lcmapstringw', 'kernel32.widechartomultibyte', 'kernel32.getlasterror', 'kernel32.tlsgetvalue', 'kernel32.flsgetvalue', 'kernel32.setlasterror', 'kernel32.multibytetowidechar', 'kernel32.multibytetowidechar', 'kernel32.lcmapstringw', 'kernel32.lcmapstringw', 'kernel32.widechartomultibyte', 'kernel32.interlockeddecrement', 'kernel32.interlockedincrement', 'kernel32.entercriticalsection', 'kernel32.interlockeddecrement', 'kernel32.interlockedincrement', 'kernel32.leavecriticalsection', 'kernel32.setunhandledexceptionfilter', 'kernel32.entercriticalsection', 'kernel32.tlsgetvalue', 'kernel32.tlsgetvalue', 'kernel32.flsgetvalue', 'kernel32.decodepointer', 'kernel32.tlsgetvalue', 'kernel32.tlsgetvalue', 'kernel32.flsgetvalue', 'kernel32.decodepointer', 'kernel32.heapsize', 'kernel32.tlsgetvalue', 'kernel32.tlsgetvalue', 'kernel32.flsgetvalue', 'kernel32.encodepointer', 'kernel32.tlsgetvalue', 'kernel32.tlsgetvalue', 'kernel32.flsgetvalue', 'kernel32.encodepointer', 'kernel32.leavecriticalsection', 'kernel32.entercriticalsection', 'kernel32.tlsgetvalue', 'kernel32.tlsgetvalue', 'kernel32.flsgetvalue', 'kernel32.decodepointer', 'kernel32.tlsgetvalue', 'kernel32.tlsgetvalue', 'kernel32.flsgetvalue', 'kernel32.decodepointer', 'kernel32.heapsize', 'kernel32.tlsgetvalue', 'kernel32.tlsgetvalue', 'kernel32.flsgetvalue', 'kernel32.encodepointer', 'kernel32.tlsgetvalue', 'kernel32.tlsgetvalue', 'kernel32.flsgetvalue', 'kernel32.encodepointer', 'kernel32.leavecriticalsection', 'kernel32.entercriticalsection', 'kernel32.tlsgetvalue', 'kernel32.tlsgetvalue', 'kernel32.flsgetvalue', 'kernel32.decodepointer', 'kernel32.tlsgetvalue', 'kernel32.tlsgetvalue', 'kernel32.flsgetvalue', 'kernel32.decodepointer', 'kernel32.heapsize', 'kernel32.tlsgetvalue', 'kernel32.tlsgetvalue', 'kernel32.flsgetvalue', 'kernel32.encodepointer', 'kernel32.tlsgetvalue', 'kernel32.tlsgetvalue', 'kernel32.flsgetvalue', 'kernel32.encodepointer', 'kernel32.leavecriticalsection', 'kernel32.initializecriticalsection', 'kernel32.entercriticalsection', 'kernel32.tlsgetvalue', 'kernel32.tlsgetvalue', 'kernel32.flsgetvalue', 'kernel32.decodepointer', 'kernel32.tlsgetvalue', 'kernel32.tlsgetvalue', 'kernel32.flsgetvalue', 'kernel32.decodepointer', 'kernel32.heapsize', 'kernel32.tlsgetvalue', 'kernel32.tlsgetvalue', 'kernel32.flsgetvalue', 'kernel32.encodepointer', 'kernel32.tlsgetvalue', 'kernel32.tlsgetvalue', 'kernel32.flsgetvalue', 'kernel32.encodepointer', 'kernel32.leavecriticalsection', 'kernel32.entercriticalsection', 'kernel32.tlsgetvalue', 'kernel32.tlsgetvalue', 'kernel32.flsgetvalue', 'kernel32.decodepointer', 'kernel32.tlsgetvalue', 'kernel32.tlsgetvalue', 'kernel32.flsgetvalue', 'kernel32.decodepointer', 'kernel32.heapsize', 'kernel32.tlsgetvalue', 'kernel32.tlsgetvalue', 'kernel32.flsgetvalue', 'kernel32.encodepointer', 'kernel32.tlsgetvalue', 'kernel32.tlsgetvalue', 'kernel32.flsgetvalue', 'kernel32.encodepointer', 'kernel32.leavecriticalsection', 'kernel32.entercriticalsection', 'kernel32.tlsgetvalue', 'kernel32.tlsgetvalue', 'kernel32.flsgetvalue', 'kernel32.decodepointer', 'kernel32.tlsgetvalue', 'kernel32.tlsgetvalue', 'kernel32.flsgetvalue', 'kernel32.decodepointer', 'kernel32.heapsize', 'kernel32.tlsgetvalue', 'kernel32.tlsgetvalue', 'kernel32.flsgetvalue', 'kernel32.encodepointer', 'kernel32.tlsgetvalue', 'kernel32.tlsgetvalue', 'kernel32.flsgetvalue', 'kernel32.encodepointer', 'kernel32.leavecriticalsection', 'kernel32.entercriticalsection', 'kernel32.tlsgetvalue', 'kernel32.tlsgetvalue', 'kernel32.flsgetvalue', 'kernel32.decodepointer', 'kernel32.tlsgetvalue', 'kernel32.tlsgetvalue', 'kernel32.flsgetvalue', 'kernel32.decodepointer', 'kernel32.heapsize', 'kernel32.tlsgetvalue', 'kernel32.tlsgetvalue', 'kernel32.flsgetvalue', 'kernel32.encodepointer', 'kernel32.tlsgetvalue', 'kernel32.tlsgetvalue', 'kernel32.flsgetvalue', 'kernel32.encodepointer', 'kernel32.leavecriticalsection', 'user32.getsystemmetrics', 'user32.getsystemmetrics', 'user32.getsystemmetrics', 'user32.getsystemmetrics', 'user32.getdc', 'gdi32.getdevicecaps', 'gdi32.getdevicecaps', 'user32.releasedc', 'user32.getsyscolor', 'user32.getsyscolor', 'user32.getsyscolor', 'user32.getsyscolor', 'user32.getsyscolor', 'user32.getsyscolorbrush', 'user32.getsyscolorbrush', 'user32.loadcursorw', 'user32.loadcursorw', 'kernel32.entercriticalsection', 'kernel32.tlsgetvalue', 'kernel32.tlsgetvalue', 'kernel32.flsgetvalue', 'kernel32.decodepointer', 'kernel32.tlsgetvalue', 'kernel32.tlsgetvalue', 'kernel32.flsgetvalue', 'kernel32.decodepointer', 'kernel32.heapsize', 'kernel32.tlsgetvalue', 'kernel32.tlsgetvalue', 'kernel32.flsgetvalue', 'kernel32.encodepointer', 'kernel32.tlsgetvalue', 'kernel32.tlsgetvalue', 'kernel32.flsgetvalue', 'kernel32.encodepointer', 'kernel32.leavecriticalsection', 'kernel32.entercriticalsection', 'kernel32.tlsgetvalue', 'kernel32.tlsgetvalue', 'kernel32.flsgetvalue', 'kernel32.decodepointer', 'kernel32.tlsgetvalue', 'kernel32.tlsgetvalue', 'kernel32.flsgetvalue', 'kernel32.decodepointer', 'kernel32.heapsize', 'kernel32.tlsgetvalue', 'kernel32.tlsgetvalue', 'kernel32.flsgetvalue', 'kernel32.encodepointer', 'kernel32.tlsgetvalue', 'kernel32.tlsgetvalue', 'kernel32.flsgetvalue', 'kernel32.encodepointer', 'kernel32.leavecriticalsection', 'user32.registerwindowmessagew', 'kernel32.tlsalloc', 'kernel32.initializecriticalsection', 'kernel32.entercriticalsection', 'kernel32.globalalloc', 'kernel32.globallock', 'kernel32.leavecriticalsection', 'kernel32.entercriticalsection', 'kernel32.tlsgetvalue', 'kernel32.leavecriticalsection', 'kernel32.localalloc', 'kernel32.entercriticalsection', 'kernel32.tlsgetvalue', 'kernel32.localalloc', 'kernel32.localalloc', 'kernel32.tlssetvalue', 'kernel32.leavecriticalsection', 'kernel32.initializecriticalsection', 'kernel32.entercriticalsection', 'kernel32.initializecriticalsection', 'kernel32.leavecriticalsection', 'kernel32.entercriticalsection', 'kernel32.localalloc', 'kernel32.heapalloc', 'kernel32.heapalloc', 'kernel32.localalloc', 'kernel32.heapalloc', 'kernel32.localalloc', 'kernel32.heapalloc', 'kernel32.localalloc', 'kernel32.heapalloc', 'kernel32.leavecriticalsection', 'kernel32.entercriticalsection', 'kernel32.tlsgetvalue', 'kernel32.tlsgetvalue', 'kernel32.flsgetvalue', 'kernel32.decodepointer', 'kernel32.tlsgetvalue', 'kernel32.tlsgetvalue', 'kernel32.flsgetvalue', 'kernel32.decodepointer', 'kernel32.heapsize', 'kernel32.tlsgetvalue', 'kernel32.tlsgetvalue', 'kernel32.flsgetvalue', 'kernel32.encodepointer', 'kernel32.tlsgetvalue', 'kernel32.tlsgetvalue', 'kernel32.flsgetvalue', 'kernel32.encodepointer', 'kernel32.leavecriticalsection', 'kernel32.entercriticalsection', 'kernel32.tlsgetvalue', 'kernel32.leavecriticalsection', 'kernel32.entercriticalsection', 'kernel32.tlsgetvalue', 'kernel32.tlsgetvalue', 'kernel32.flsgetvalue', 'kernel32.decodepointer', 'kernel32.tlsgetvalue', 'kernel32.tlsgetvalue', 'kernel32.flsgetvalue', 'kernel32.decodepointer', 'kernel32.heapsize', 'kernel32.tlsgetvalue', 'kernel32.tlsgetvalue', 'kernel32.flsgetvalue', 'kernel32.encodepointer', 'kernel32.tlsgetvalue', 'kernel32.tlsgetvalue', 'kernel32.flsgetvalue', 'kernel32.encodepointer', 'kernel32.leavecriticalsection', 'kernel32.entercriticalsection', 'kernel32.tlsgetvalue', 'kernel32.leavecriticalsection', 'kernel32.entercriticalsection', 'kernel32.tlsgetvalue', 'kernel32.tlsgetvalue', 'kernel32.flsgetvalue', 'kernel32.decodepointer', 'kernel32.tlsgetvalue', 'kernel32.tlsgetvalue', 'kernel32.flsgetvalue', 'kernel32.decodepointer', 'kernel32.heapsize', 'kernel32.tlsgetvalue', 'kernel32.tlsgetvalue', 'kernel32.flsgetvalue', 'kernel32.encodepointer', 'kernel32.tlsgetvalue', 'kernel32.tlsgetvalue', 'kernel32.flsgetvalue', 'kernel32.encodepointer', 'kernel32.leavecriticalsection', 'kernel32.entercriticalsection', 'kernel32.tlsgetvalue', 'kernel32.leavecriticalsection', 'kernel32.entercriticalsection', 'kernel32.tlsgetvalue', 'kernel32.tlsgetvalue', 'kernel32.flsgetvalue', 'kernel32.decodepointer', 'kernel32.tlsgetvalue', 'kernel32.tlsgetvalue', 'kernel32.flsgetvalue', 'kernel32.decodepointer', 'kernel32.heapsize'),\n",
       "        ...,\n",
       "        ('kernel32.getversion', 'kernel32.heapcreate', 'kernel32.getversionexa', 'kernel32.initializecriticalsection', 'kernel32.initializecriticalsection', 'kernel32.initializecriticalsection', 'kernel32.initializecriticalsection', 'kernel32.tlsalloc', 'kernel32.heapalloc', 'kernel32.tlssetvalue', 'kernel32.getcurrentthreadid', 'kernel32.heapalloc', 'kernel32.getstartupinfoa', 'kernel32.getstdhandle', 'kernel32.getfiletype', 'kernel32.getstdhandle', 'kernel32.getfiletype', 'kernel32.getstdhandle', 'kernel32.getfiletype', 'kernel32.sethandlecount', 'kernel32.getcommandlinea', 'kernel32.getenvironmentstringsw', 'kernel32.widechartomultibyte', 'kernel32.heapalloc', 'kernel32.widechartomultibyte', 'kernel32.freeenvironmentstringsw', 'kernel32.heapalloc', 'kernel32.entercriticalsection', 'kernel32.initializecriticalsection', 'kernel32.leavecriticalsection', 'kernel32.entercriticalsection', 'kernel32.getacp', 'kernel32.getcpinfo', 'kernel32.getcpinfo', 'kernel32.getstringtypew', 'kernel32.multibytetowidechar', 'kernel32.multibytetowidechar', 'kernel32.getstringtypew', 'kernel32.lcmapstringw', 'kernel32.multibytetowidechar', 'kernel32.multibytetowidechar', 'kernel32.lcmapstringw', 'kernel32.lcmapstringw', 'kernel32.widechartomultibyte', 'kernel32.multibytetowidechar', 'kernel32.multibytetowidechar', 'kernel32.lcmapstringw', 'kernel32.lcmapstringw', 'kernel32.widechartomultibyte', 'kernel32.leavecriticalsection', 'kernel32.getmodulefilenamea', 'kernel32.heapalloc', 'kernel32.heapalloc', 'kernel32.heapalloc', 'kernel32.heapfree', 'kernel32.heapalloc', 'kernel32.setunhandledexceptionfilter', 'kernel32.loadlibrarya', 'kernel32.getprocaddress', 'kernel32.loadlibrarya', 'kernel32.getprocaddress', 'kernel32.loadlibrarya', 'kernel32.getprocaddress', 'kernel32.getstartupinfoa', 'kernel32.getmodulehandlea', 'kernel32.raiseexception', 'kernel32.entercriticalsection', 'kernel32.heapalloc', 'kernel32.entercriticalsection', 'kernel32.initializecriticalsection', 'kernel32.leavecriticalsection', 'kernel32.entercriticalsection', 'kernel32.heapalloc', 'kernel32.entercriticalsection', 'kernel32.initializecriticalsection', 'kernel32.leavecriticalsection', 'kernel32.entercriticalsection', 'kernel32.leavecriticalsection', 'kernel32.heapalloc', 'kernel32.entercriticalsection', 'kernel32.initializecriticalsection', 'kernel32.leavecriticalsection', 'kernel32.entercriticalsection', 'kernel32.leavecriticalsection', 'kernel32.heapalloc', 'kernel32.entercriticalsection', 'kernel32.initializecriticalsection', 'kernel32.leavecriticalsection', 'kernel32.entercriticalsection', 'kernel32.leavecriticalsection', 'kernel32.leavecriticalsection', 'kernel32.setunhandledexceptionfilter', 'kernel32.exitprocess'),\n",
       "        ('crtdll.__getmainargs', 'kernel32.getcommandlinea', 'kernel32.getmodulehandlea', 'kernel32.openmutexa', 'kernel32.getversionexa', 'kernel32.getsystemdirectorya', 'kernel32.gettickcount', 'crtdll.srand', 'kernel32.getmodulefilenamea', 'crtdll.sprintf', 'crtdll.sprintf', 'crtdll.sprintf', 'crtdll.sprintf', 'kernel32.createfilea', 'kernel32.setfilepointer', 'kernel32.getcomputernamea', 'kernel32.writefile', 'kernel32.writefile', 'advapi32.getusernamea', 'kernel32.writefile', 'kernel32.writefile', 'kernel32.closehandle', 'user32.loadcursora', 'user32.loadicona', 'gdi32.getstockobject', 'user32.registerclassa', 'user32.createwindowexa', 'kernel32.createmutexa', 'kernel32.getmodulehandlea', 'kernel32.getprocaddress', 'kernel32.getprocaddress', 'kernel32.getprocaddress', 'kernel32.getprocaddress', 'kernel32.getprocaddress', 'kernel32.getversion', 'kernel32.loadlibrarya', 'kernel32.getprocaddress', 'kernel32.loadlibrarya', 'kernel32.getprocaddress', 'ntdll.rtlinitunicodestring', 'ntdll.ntopensection', 'advapi32.getsecurityinfo', 'advapi32.setentriesinacla', 'advapi32.setsecurityinfo', 'kernel32.closehandle', 'ntdll.ntopensection', 'kernel32.isbadreadptr', 'kernel32.isbadreadptr', 'kernel32.isbadreadptr', 'kernel32.isbadreadptr', 'kernel32.isbadreadptr', 'kernel32.isbadreadptr', 'kernel32.isbadreadptr', 'kernel32.isbadreadptr', 'kernel32.isbadreadptr', 'kernel32.isbadreadptr', 'kernel32.isbadreadptr', 'kernel32.isbadreadptr', 'kernel32.isbadreadptr', 'kernel32.isbadreadptr', 'kernel32.isbadreadptr', 'kernel32.isbadreadptr', 'kernel32.isbadreadptr', 'kernel32.isbadreadptr', 'kernel32.isbadreadptr', 'kernel32.isbadreadptr', 'kernel32.isbadreadptr', 'kernel32.isbadreadptr', 'kernel32.isbadreadptr', 'kernel32.isbadreadptr', 'kernel32.isbadreadptr', 'kernel32.isbadreadptr', 'kernel32.isbadreadptr', 'kernel32.isbadreadptr', 'kernel32.isbadreadptr', 'kernel32.isbadreadptr', 'kernel32.isbadreadptr', 'kernel32.isbadreadptr', 'kernel32.isbadreadptr', 'kernel32.isbadreadptr', 'kernel32.isbadreadptr', 'kernel32.isbadreadptr', 'kernel32.isbadreadptr', 'kernel32.isbadreadptr', 'kernel32.isbadreadptr', 'kernel32.isbadreadptr', 'kernel32.isbadreadptr', 'kernel32.isbadreadptr', 'kernel32.isbadreadptr', 'kernel32.isbadreadptr', 'kernel32.isbadreadptr', 'kernel32.isbadreadptr', 'kernel32.isbadreadptr', 'kernel32.isbadreadptr', 'kernel32.isbadreadptr', 'kernel32.isbadreadptr', 'kernel32.isbadreadptr', 'kernel32.isbadreadptr', 'kernel32.isbadreadptr', 'kernel32.isbadreadptr', 'kernel32.isbadreadptr', 'kernel32.isbadreadptr', 'kernel32.isbadreadptr', 'kernel32.isbadreadptr', 'kernel32.isbadreadptr', 'kernel32.isbadreadptr', 'kernel32.isbadreadptr', 'kernel32.isbadreadptr', 'kernel32.isbadreadptr', 'kernel32.isbadreadptr', 'kernel32.isbadreadptr', 'kernel32.isbadreadptr', 'kernel32.isbadreadptr', 'kernel32.isbadreadptr', 'kernel32.isbadreadptr', 'kernel32.isbadreadptr', 'kernel32.isbadreadptr', 'kernel32.isbadreadptr', 'kernel32.isbadreadptr', 'kernel32.isbadreadptr', 'kernel32.isbadreadptr', 'kernel32.isbadreadptr', 'kernel32.isbadreadptr', 'kernel32.isbadreadptr', 'kernel32.isbadreadptr', 'kernel32.isbadreadptr', 'kernel32.isbadreadptr', 'kernel32.isbadreadptr', 'kernel32.isbadreadptr', 'kernel32.isbadreadptr', 'kernel32.isbadreadptr', 'kernel32.isbadreadptr', 'kernel32.isbadreadptr', 'kernel32.isbadreadptr', 'kernel32.isbadreadptr', 'kernel32.isbadreadptr', 'kernel32.isbadreadptr', 'kernel32.isbadreadptr', 'kernel32.isbadreadptr', 'kernel32.isbadreadptr', 'kernel32.isbadreadptr', 'kernel32.isbadreadptr', 'kernel32.isbadreadptr', 'kernel32.isbadreadptr', 'kernel32.isbadreadptr', 'kernel32.isbadreadptr', 'kernel32.isbadreadptr', 'kernel32.isbadreadptr', 'kernel32.isbadreadptr', 'kernel32.isbadreadptr', 'kernel32.isbadreadptr', 'kernel32.isbadreadptr', 'kernel32.isbadreadptr', 'kernel32.isbadreadptr', 'kernel32.isbadreadptr', 'kernel32.isbadreadptr', 'kernel32.isbadreadptr', 'kernel32.isbadreadptr', 'kernel32.isbadreadptr', 'kernel32.isbadreadptr', 'kernel32.isbadreadptr', 'kernel32.isbadreadptr', 'kernel32.isbadreadptr', 'kernel32.isbadreadptr', 'kernel32.isbadreadptr', 'kernel32.isbadreadptr', 'kernel32.isbadreadptr', 'kernel32.isbadreadptr', 'kernel32.isbadreadptr', 'kernel32.isbadreadptr', 'kernel32.isbadreadptr', 'kernel32.isbadreadptr', 'kernel32.isbadreadptr', 'kernel32.isbadreadptr', 'kernel32.isbadreadptr', 'kernel32.isbadreadptr', 'kernel32.isbadreadptr', 'kernel32.isbadreadptr', 'kernel32.isbadreadptr', 'kernel32.isbadreadptr', 'kernel32.isbadreadptr', 'kernel32.isbadreadptr', 'kernel32.isbadreadptr', 'kernel32.isbadreadptr', 'kernel32.isbadreadptr', 'kernel32.isbadreadptr', 'kernel32.isbadreadptr', 'kernel32.isbadreadptr', 'kernel32.isbadreadptr', 'kernel32.isbadreadptr', 'kernel32.isbadreadptr', 'kernel32.isbadreadptr', 'kernel32.isbadreadptr', 'kernel32.isbadreadptr', 'kernel32.isbadreadptr', 'kernel32.isbadreadptr', 'kernel32.isbadreadptr', 'kernel32.isbadreadptr', 'kernel32.isbadreadptr', 'kernel32.isbadreadptr', 'kernel32.isbadreadptr', 'kernel32.isbadreadptr', 'kernel32.isbadreadptr', 'kernel32.isbadreadptr', 'kernel32.isbadreadptr', 'kernel32.isbadreadptr', 'kernel32.isbadreadptr', 'kernel32.isbadreadptr', 'kernel32.isbadreadptr', 'kernel32.isbadreadptr', 'kernel32.isbadreadptr', 'kernel32.isbadreadptr', 'kernel32.isbadreadptr', 'kernel32.isbadreadptr', 'kernel32.isbadreadptr', 'kernel32.isbadreadptr', 'kernel32.isbadreadptr', 'kernel32.isbadreadptr', 'kernel32.isbadreadptr', 'kernel32.isbadreadptr', 'kernel32.isbadreadptr', 'kernel32.isbadreadptr', 'kernel32.isbadreadptr', 'kernel32.isbadreadptr', 'kernel32.isbadreadptr', 'kernel32.isbadreadptr', 'kernel32.isbadreadptr', 'kernel32.isbadreadptr', 'kernel32.isbadreadptr', 'kernel32.isbadreadptr', 'kernel32.isbadreadptr', 'kernel32.isbadreadptr', 'kernel32.isbadreadptr', 'kernel32.isbadreadptr', 'kernel32.isbadreadptr', 'kernel32.isbadreadptr', 'kernel32.isbadreadptr', 'kernel32.isbadreadptr', 'kernel32.isbadreadptr', 'kernel32.isbadreadptr', 'kernel32.isbadreadptr', 'kernel32.isbadreadptr', 'kernel32.isbadreadptr', 'kernel32.isbadreadptr', 'kernel32.isbadreadptr', 'kernel32.isbadreadptr', 'kernel32.isbadreadptr', 'kernel32.isbadreadptr', 'kernel32.isbadreadptr', 'kernel32.isbadreadptr', 'kernel32.isbadreadptr', 'kernel32.isbadreadptr', 'kernel32.isbadreadptr', 'kernel32.isbadreadptr', 'kernel32.isbadreadptr', 'kernel32.isbadreadptr', 'kernel32.isbadreadptr', 'kernel32.isbadreadptr', 'kernel32.isbadreadptr', 'kernel32.isbadreadptr', 'kernel32.isbadreadptr', 'kernel32.isbadreadptr', 'kernel32.isbadreadptr', 'kernel32.isbadreadptr', 'kernel32.isbadreadptr', 'kernel32.isbadreadptr', 'kernel32.isbadreadptr', 'kernel32.isbadreadptr', 'kernel32.isbadreadptr', 'kernel32.isbadreadptr', 'kernel32.isbadreadptr', 'kernel32.isbadreadptr', 'kernel32.isbadreadptr', 'kernel32.isbadreadptr', 'kernel32.isbadreadptr', 'kernel32.isbadreadptr', 'kernel32.isbadreadptr', 'kernel32.isbadreadptr', 'kernel32.isbadreadptr', 'kernel32.isbadreadptr', 'kernel32.isbadreadptr', 'kernel32.isbadreadptr', 'kernel32.isbadreadptr', 'kernel32.isbadreadptr', 'kernel32.isbadreadptr', 'kernel32.isbadreadptr', 'kernel32.isbadreadptr', 'kernel32.isbadreadptr', 'kernel32.isbadreadptr', 'kernel32.isbadreadptr', 'kernel32.isbadreadptr', 'kernel32.isbadreadptr', 'kernel32.isbadreadptr', 'kernel32.isbadreadptr', 'kernel32.isbadreadptr', 'kernel32.isbadreadptr', 'kernel32.isbadreadptr', 'kernel32.isbadreadptr', 'kernel32.isbadreadptr', 'kernel32.isbadreadptr', 'kernel32.isbadreadptr', 'kernel32.isbadreadptr', 'kernel32.isbadreadptr', 'kernel32.isbadreadptr', 'kernel32.isbadreadptr', 'kernel32.isbadreadptr', 'kernel32.isbadreadptr', 'kernel32.isbadreadptr', 'kernel32.isbadreadptr', 'kernel32.isbadreadptr', 'kernel32.isbadreadptr', 'kernel32.isbadreadptr', 'kernel32.isbadreadptr', 'kernel32.isbadreadptr', 'kernel32.isbadreadptr', 'kernel32.isbadreadptr', 'kernel32.isbadreadptr', 'kernel32.isbadreadptr', 'kernel32.isbadreadptr', 'kernel32.isbadreadptr', 'kernel32.isbadreadptr', 'kernel32.isbadreadptr', 'kernel32.isbadreadptr', 'kernel32.isbadreadptr', 'kernel32.isbadreadptr', 'kernel32.isbadreadptr', 'kernel32.isbadreadptr', 'kernel32.isbadreadptr', 'kernel32.isbadreadptr', 'kernel32.isbadreadptr', 'kernel32.isbadreadptr', 'kernel32.isbadreadptr', 'kernel32.isbadreadptr', 'kernel32.isbadreadptr', 'kernel32.isbadreadptr', 'kernel32.isbadreadptr', 'kernel32.isbadreadptr', 'kernel32.isbadreadptr', 'kernel32.isbadreadptr', 'kernel32.isbadreadptr', 'kernel32.isbadreadptr', 'kernel32.isbadreadptr', 'kernel32.isbadreadptr', 'kernel32.isbadreadptr', 'kernel32.isbadreadptr', 'kernel32.isbadreadptr', 'kernel32.isbadreadptr', 'kernel32.isbadreadptr', 'kernel32.isbadreadptr', 'kernel32.isbadreadptr', 'kernel32.isbadreadptr', 'kernel32.isbadreadptr', 'kernel32.isbadreadptr', 'kernel32.isbadreadptr', 'kernel32.isbadreadptr', 'kernel32.isbadreadptr', 'kernel32.isbadreadptr', 'kernel32.isbadreadptr', 'kernel32.isbadreadptr', 'kernel32.isbadreadptr', 'kernel32.isbadreadptr', 'kernel32.isbadreadptr', 'kernel32.isbadreadptr', 'kernel32.isbadreadptr', 'kernel32.isbadreadptr', 'kernel32.isbadreadptr', 'kernel32.isbadreadptr', 'kernel32.isbadreadptr', 'kernel32.isbadreadptr', 'kernel32.isbadreadptr', 'kernel32.isbadreadptr', 'kernel32.isbadreadptr', 'kernel32.isbadreadptr', 'kernel32.isbadreadptr', 'kernel32.isbadreadptr', 'kernel32.isbadreadptr', 'kernel32.isbadreadptr', 'kernel32.isbadreadptr', 'kernel32.isbadreadptr', 'kernel32.isbadreadptr', 'kernel32.isbadreadptr', 'kernel32.isbadreadptr', 'kernel32.isbadreadptr', 'kernel32.isbadreadptr', 'kernel32.isbadreadptr', 'kernel32.isbadreadptr', 'kernel32.isbadreadptr', 'kernel32.isbadreadptr', 'kernel32.isbadreadptr', 'kernel32.isbadreadptr', 'kernel32.isbadreadptr', 'kernel32.isbadreadptr', 'kernel32.isbadreadptr', 'kernel32.isbadreadptr', 'kernel32.isbadreadptr', 'kernel32.isbadreadptr', 'kernel32.isbadreadptr', 'kernel32.isbadreadptr', 'kernel32.isbadreadptr', 'kernel32.isbadreadptr', 'kernel32.isbadreadptr', 'kernel32.isbadreadptr', 'kernel32.isbadreadptr', 'kernel32.isbadreadptr', 'kernel32.isbadreadptr', 'kernel32.isbadreadptr', 'kernel32.isbadreadptr', 'kernel32.isbadreadptr', 'kernel32.isbadreadptr', 'kernel32.isbadreadptr', 'kernel32.isbadreadptr', 'kernel32.isbadreadptr', 'kernel32.isbadreadptr', 'kernel32.isbadreadptr', 'kernel32.isbadreadptr', 'kernel32.isbadreadptr', 'kernel32.isbadreadptr', 'kernel32.isbadreadptr', 'kernel32.isbadreadptr', 'kernel32.isbadreadptr', 'kernel32.isbadreadptr', 'kernel32.isbadreadptr', 'kernel32.isbadreadptr', 'kernel32.isbadreadptr', 'kernel32.isbadreadptr', 'kernel32.isbadreadptr', 'kernel32.isbadreadptr', 'kernel32.isbadreadptr', 'kernel32.isbadreadptr', 'kernel32.isbadreadptr', 'kernel32.isbadreadptr', 'kernel32.isbadreadptr', 'kernel32.isbadreadptr', 'kernel32.isbadreadptr', 'kernel32.isbadreadptr', 'kernel32.isbadreadptr', 'kernel32.isbadreadptr', 'kernel32.isbadreadptr', 'kernel32.isbadreadptr', 'kernel32.isbadreadptr', 'kernel32.isbadreadptr', 'kernel32.isbadreadptr', 'kernel32.isbadreadptr', 'kernel32.isbadreadptr', 'kernel32.isbadreadptr', 'kernel32.isbadreadptr', 'kernel32.isbadreadptr', 'kernel32.isbadreadptr', 'kernel32.isbadreadptr', 'kernel32.isbadreadptr', 'kernel32.isbadreadptr', 'kernel32.isbadreadptr', 'kernel32.isbadreadptr', 'kernel32.isbadreadptr', 'kernel32.isbadreadptr', 'kernel32.isbadreadptr', 'kernel32.isbadreadptr', 'kernel32.isbadreadptr', 'kernel32.isbadreadptr', 'kernel32.isbadreadptr', 'kernel32.isbadreadptr', 'kernel32.isbadreadptr', 'kernel32.isbadreadptr', 'kernel32.isbadreadptr', 'kernel32.isbadreadptr', 'kernel32.isbadreadptr', 'kernel32.isbadreadptr', 'kernel32.isbadreadptr', 'kernel32.isbadreadptr', 'kernel32.isbadreadptr', 'kernel32.isbadreadptr', 'kernel32.isbadreadptr', 'kernel32.isbadreadptr', 'kernel32.isbadreadptr', 'kernel32.isbadreadptr', 'kernel32.isbadreadptr', 'kernel32.isbadreadptr', 'kernel32.isbadreadptr', 'kernel32.isbadreadptr', 'kernel32.isbadreadptr', 'kernel32.isbadreadptr', 'kernel32.isbadreadptr', 'kernel32.isbadreadptr', 'kernel32.isbadreadptr', 'kernel32.isbadreadptr', 'kernel32.isbadreadptr', 'kernel32.isbadreadptr', 'kernel32.isbadreadptr', 'kernel32.isbadreadptr', 'kernel32.isbadreadptr', 'kernel32.isbadreadptr', 'kernel32.isbadreadptr', 'kernel32.isbadreadptr', 'kernel32.isbadreadptr', 'kernel32.isbadreadptr', 'kernel32.isbadreadptr', 'kernel32.isbadreadptr', 'kernel32.isbadreadptr', 'kernel32.isbadreadptr', 'kernel32.isbadreadptr', 'kernel32.isbadreadptr'),\n",
       "        ('msvbvm60.ordinal_100',)], dtype=object),\n",
       " array([ True,  True,  True, ...,  True,  True,  True]))"
      ]
     },
     "execution_count": 5,
     "metadata": {},
     "output_type": "execute_result"
    }
   ],
   "source": [
    "datasets[\"emulation\"]"
   ]
  },
  {
   "cell_type": "markdown",
   "metadata": {},
   "source": []
  },
  {
   "cell_type": "markdown",
   "metadata": {},
   "source": [
    "# Training ML Models"
   ]
  },
  {
   "cell_type": "markdown",
   "metadata": {},
   "source": [
    "## Paths"
   ]
  },
  {
   "cell_type": "code",
   "execution_count": 50,
   "metadata": {},
   "outputs": [],
   "source": [
    "from preprocessing.text import normalize_path\n",
    "from preprocessing.array import pad_array, byte_filter, remap\n",
    "\n",
    "\n",
    "PADDING_LENGTH = 150\n",
    "\n",
    "\n",
    "def path_to_vector(path, padding_length=PADDING_LENGTH) -> np.ndarray:    \n",
    "    path_bytes = normalize_path(path).encode(\"utf-8\", \"ignore\")\n",
    "    vector = np.array(list(path_bytes), dtype=int)\n",
    "    return pad_array(vector, padding_length)\n",
    "\n",
    "def preprocess_paths(paths, padding_length=PADDING_LENGTH) -> np.ndarray:\n",
    "    paths_vectors = []\n",
    "    for path in paths:\n",
    "        paths_vectors.append(path_to_vector(path, padding_length))\n",
    "    return np.vstack(paths_vectors)"
   ]
  },
  {
   "cell_type": "markdown",
   "metadata": {},
   "source": [
    "### Preprocessing"
   ]
  },
  {
   "cell_type": "markdown",
   "metadata": {},
   "source": [
    "#### Paths Normalisation and Encoding\n",
    "Firstly, it is necessary to **normalise** a path. This means substituting: \n",
    "1. drive letters with [drive] \n",
    "2. network hosts with [net] \n",
    "3. arbitrary, non-default usernames with [user] \n",
    "4. environment variables with fullpath equivalent\n",
    "\n",
    "Then, the resulting string undergoes UTF-8 **encoding** — ignoring errors.\n",
    "\n",
    "Finally, the byte array is padded or truncated to the predefined length (default\n",
    "is 150)."
   ]
  },
  {
   "cell_type": "code",
   "execution_count": 36,
   "metadata": {},
   "outputs": [
    {
     "data": {
      "text/plain": [
       "array([[ 91, 100, 114, ...,   0,   0,   0],\n",
       "       [ 91, 100, 114, ...,   0,   0,   0],\n",
       "       [ 91, 100, 114, ...,   0,   0,   0],\n",
       "       ...,\n",
       "       [ 91, 100, 114, ...,   0,   0,   0],\n",
       "       [ 91, 100, 114, ...,   0,   0,   0],\n",
       "       [ 91, 100, 114, ...,   0,   0,   0]])"
      ]
     },
     "execution_count": 36,
     "metadata": {},
     "output_type": "execute_result"
    }
   ],
   "source": [
    "preprocessed_paths = preprocess_paths(datasets[\"paths\"][0])\n",
    "preprocessed_paths"
   ]
  },
  {
   "cell_type": "markdown",
   "metadata": {},
   "source": [
    "#### Byte Filtering\n",
    "The N most occurring bytes are selected and filtered from each byte vector. The\n",
    "default value for the kept bytes is 150.\n",
    "\n",
    "Any character that does not fall in the 150 most common characters is replaced\n",
    "as with the integer value '1'. \n",
    "\n",
    "The authors select the N+1 most common characters, because the padding label\n",
    "(i.e. '0') is likely going to be the most common."
   ]
  },
  {
   "cell_type": "code",
   "execution_count": 68,
   "metadata": {},
   "outputs": [],
   "source": [
    "from collections import Counter\n",
    "\n",
    "\n",
    "N_KEEP_BYTES = 150\n",
    "\n",
    "byte_counter = Counter(preprocessed_paths.flatten())\n",
    "# Select the first column of the byte counts — i.e. the byte value\n",
    "keep_bytes = np.array(byte_counter.most_common(N_KEEP_BYTES+1))[:, 0]\n",
    "filtered_paths = byte_filter(preprocessed_paths, keep_bytes)"
   ]
  },
  {
   "cell_type": "markdown",
   "metadata": {},
   "source": [
    "#### Remapping Bytes\n",
    "The bytes are remapped for embedding purposes. This involves sorting each byte\n",
    "appearing in the filtered dataset, adding the label values '0' and '1', and\n",
    "enumerating them."
   ]
  },
  {
   "cell_type": "code",
   "execution_count": 90,
   "metadata": {},
   "outputs": [],
   "source": [
    "def get_bytes_map(used_bytes) -> dict[int, int]:\n",
    "    bytes_set = set([0, 1] + list(used_bytes))\n",
    "    return {byte_value: index\n",
    "            for index, byte_value\n",
    "            in enumerate(bytes_set)}\n",
    "\n",
    "    "
   ]
  },
  {
   "cell_type": "code",
   "execution_count": null,
   "metadata": {},
   "outputs": [
    {
     "data": {
      "text/plain": [
       "array([[25, 32, 46, ...,  0,  0,  0],\n",
       "       [25, 32, 46, ...,  0,  0,  0],\n",
       "       [25, 32, 46, ...,  0,  0,  0],\n",
       "       ...,\n",
       "       [25, 32, 46, ...,  0,  0,  0],\n",
       "       [25, 32, 46, ...,  0,  0,  0],\n",
       "       [25, 32, 46, ...,  0,  0,  0]])"
      ]
     },
     "execution_count": 91,
     "metadata": {},
     "output_type": "execute_result"
    }
   ],
   "source": [
    "bytes_map = get_bytes_map(keep_bytes)\n",
    "\n",
    "remapped_paths = remap(filtered_paths, bytes_map)"
   ]
  },
  {
   "cell_type": "code",
   "execution_count": 94,
   "metadata": {},
   "outputs": [],
   "source": [
    "assert len(remapped_paths) == len(datasets[\"paths\"][1])\n",
    "\n",
    "datasets[\"paths\"] = (remapped_paths, datasets[\"paths\"][1])"
   ]
  },
  {
   "cell_type": "markdown",
   "metadata": {},
   "source": [
    "#### Path Normalisation Demo"
   ]
  },
  {
   "cell_type": "code",
   "execution_count": 93,
   "metadata": {},
   "outputs": [
    {
     "name": "stdout",
     "output_type": "stream",
     "text": [
      "Example path:\n",
      "\t C:\\Users\\myuser\\AppData\\Roaming\\\\Microsoft\\Windows\\Start Menu\\VkKeUfTH.iso\n",
      "\n",
      "Normalised path:\n",
      "\t [drive]\\users\\[user]\\appdata\\roaming[net]\\windows\\start menu\\vkkeufth.iso\n",
      "Encoded path:\n",
      " [ 91 100 114 105 118 101  93  92 117 115 101 114 115  92  91 117 115 101\n",
      " 114  93  92  97 112 112 100  97 116  97  92 114 111  97 109 105 110 103\n",
      "  91 110 101 116  93  92 119 105 110 100 111 119 115  92 115 116  97 114\n",
      " 116  32 109 101 110 117  92 118 107 107 101 117 102 116 104  46 105 115\n",
      " 111   0   0   0   0   0   0   0   0   0   0   0   0   0   0   0   0   0\n",
      "   0   0   0   0   0   0   0   0   0   0   0   0   0   0   0   0   0   0\n",
      "   0   0   0   0   0   0   0   0   0   0   0   0   0   0   0   0   0   0\n",
      "   0   0   0   0   0   0   0   0   0   0   0   0   0   0   0   0   0   0\n",
      "   0   0   0   0   0   0]\n",
      "Filtered path:\n",
      " [  1 100 114 105   1 101   1  92 117 115 101 114 115  92   1 117 115 101\n",
      " 114   1  92  97   1   1 100  97 116  97  92 114 111  97 109 105 110   1\n",
      "   1 110 101 116   1  92 119 105 110 100 111 119 115  92 115 116  97 114\n",
      " 116   1 109 101 110 117  92   1   1   1 101 117   1 116   1  46 105 115\n",
      " 111   0   0   0   0   0   0   0   0   0   0   0   0   0   0   0   0   0\n",
      "   0   0   0   0   0   0   0   0   0   0   0   0   0   0   0   0   0   0\n",
      "   0   0   0   0   0   0   0   0   0   0   0   0   0   0   0   0   0   0\n",
      "   0   0   0   0   0   0   0   0   0   0   0   0   0   0   0   0   0   0\n",
      "   0   0   0   0   0   0]\n",
      "Remapped path:\n",
      " [ 1  3 10  5  1  4  1 15 13 11  4 10 11 15  1 13 11  4 10  1 15  2  1  1\n",
      "  3  2 12  2 15 10  8  2  6  5  7  1  1  7  4 12  1 15 14  5  7  3  8 14\n",
      " 11 15 11 12  2 10 12  1  6  4  7 13 15  1  1  1  4 13  1 12  1  9  5 11\n",
      "  8  0  0  0  0  0  0  0  0  0  0  0  0  0  0  0  0  0  0  0  0  0  0  0\n",
      "  0  0  0  0  0  0  0  0  0  0  0  0  0  0  0  0  0  0  0  0  0  0  0  0\n",
      "  0  0  0  0  0  0  0  0  0  0  0  0  0  0  0  0  0  0  0  0  0  0  0  0\n",
      "  0  0  0  0  0  0]\n"
     ]
    }
   ],
   "source": [
    "example_path = datasets[\"paths\"][0][-1]\n",
    "example_path_norm = normalize_path(example_path)\n",
    "example_path_vect = path_to_vector(example_path)\n",
    "# Reducing the keep bytes for demonstration purposes\n",
    "# Had to make a copy because byte_filter applies changes to the input vector \n",
    "example_path_filt = byte_filter(example_path_vect.copy(), keep_bytes[:15])\n",
    "example_path_rmap = remap(example_path_filt, get_bytes_map(keep_bytes[:15]))\n",
    "\n",
    "\n",
    "print(\"Example path:\\n\\t\", example_path)\n",
    "print(\"Normalised path:\\n\\t\", example_path_norm)\n",
    "print(\"Encoded path:\\n\", example_path_vect)\n",
    "print(\"Filtered path:\\n\", example_path_filt)\n",
    "print(\"Remapped path:\\n\", example_path_rmap)\n"
   ]
  },
  {
   "cell_type": "markdown",
   "metadata": {},
   "source": [
    "### Model Setup and Training"
   ]
  },
  {
   "cell_type": "code",
   "execution_count": 104,
   "metadata": {},
   "outputs": [],
   "source": [
    "import torch\n",
    "from torch import nn, optim\n",
    "from models import Filepath\n",
    "\n",
    "EMBEDDING_SIZE = 64\n",
    "N_EPOCHS = 50\n",
    "\n",
    "X = remapped_paths.copy()\n",
    "y = np.array(datasets[\"paths\"][1], dtype=np.int)"
   ]
  },
  {
   "cell_type": "code",
   "execution_count": 105,
   "metadata": {},
   "outputs": [],
   "source": [
    "train_loader = torch.utils.data.DataLoader(\n",
    "        torch.utils.data.TensorDataset(\n",
    "                torch.LongTensor(X), torch.LongTensor(y)),\n",
    "        batch_size = 1024, shuffle=True)"
   ]
  },
  {
   "cell_type": "code",
   "execution_count": 106,
   "metadata": {},
   "outputs": [
    {
     "name": "stderr",
     "output_type": "stream",
     "text": [
      "WARNING:root: [*] Started epoch: 1\n",
      "WARNING:root: [*] Tue Nov  5 16:03:21 2024: Train Epoch: 1 [0/346689 (0%)]\tLoss: 0.721004\tAccuracy: 54.88 | Elapsed: 0.64s\n",
      "WARNING:root: [*] Tue Nov  5 16:04:19 2024: Train Epoch: 1 [102400/346689 (29%)]\tLoss: 0.041018\tAccuracy: 97.63 | Elapsed: 58.35s\n",
      "WARNING:root: [*] Tue Nov  5 16:05:20 2024: Train Epoch: 1 [204800/346689 (59%)]\tLoss: 0.032261\tAccuracy: 98.29 | Elapsed: 60.28s\n",
      "WARNING:root: [*] Tue Nov  5 16:06:22 2024: Train Epoch: 1 [307200/346689 (88%)]\tLoss: 0.023608\tAccuracy: 98.53 | Elapsed: 62.08s\n",
      "WARNING:root: [*] Tue Nov  5 16:06:45 2024:    2    | Tr.loss:   0.035516   | Tr.acc.:   98.58   |  204.37  \n",
      "WARNING:root: [*] Started epoch: 2\n",
      "WARNING:root: [*] Tue Nov  5 16:06:45 2024: Train Epoch: 2 [0/346689 (0%)]\tLoss: 0.026588\tAccuracy: 98.63 | Elapsed: 0.73s\n",
      "WARNING:root: [*] Tue Nov  5 16:07:51 2024: Train Epoch: 2 [102400/346689 (29%)]\tLoss: 0.026718\tAccuracy: 99.03 | Elapsed: 65.34s\n",
      "WARNING:root: [*] Tue Nov  5 16:08:55 2024: Train Epoch: 2 [204800/346689 (59%)]\tLoss: 0.026354\tAccuracy: 99.04 | Elapsed: 63.95s\n",
      "WARNING:root: [*] Tue Nov  5 16:09:58 2024: Train Epoch: 2 [307200/346689 (88%)]\tLoss: 0.021321\tAccuracy: 99.05 | Elapsed: 62.97s\n",
      "WARNING:root: [*] Tue Nov  5 16:10:22 2024:    3    | Tr.loss:   0.020706   | Tr.acc.:   99.06   |  216.97  \n",
      "WARNING:root: [*] Started epoch: 3\n",
      "WARNING:root: [*] Tue Nov  5 16:10:22 2024: Train Epoch: 3 [0/346689 (0%)]\tLoss: 0.015234\tAccuracy: 99.61 | Elapsed: 0.65s\n",
      "WARNING:root: [*] Tue Nov  5 16:11:25 2024: Train Epoch: 3 [102400/346689 (29%)]\tLoss: 0.012117\tAccuracy: 99.16 | Elapsed: 62.76s\n",
      "WARNING:root: [*] Tue Nov  5 16:12:28 2024: Train Epoch: 3 [204800/346689 (59%)]\tLoss: 0.011613\tAccuracy: 99.15 | Elapsed: 63.13s\n",
      "WARNING:root: [*] Tue Nov  5 16:13:39 2024: Train Epoch: 3 [307200/346689 (88%)]\tLoss: 0.017740\tAccuracy: 99.12 | Elapsed: 70.81s\n",
      "WARNING:root: [*] Tue Nov  5 16:14:04 2024:    4    | Tr.loss:   0.019132   | Tr.acc.:   99.11   |  222.25  \n",
      "WARNING:root: [*] Started epoch: 4\n",
      "WARNING:root: [*] Tue Nov  5 16:14:05 2024: Train Epoch: 4 [0/346689 (0%)]\tLoss: 0.021078\tAccuracy: 98.44 | Elapsed: 0.66s\n",
      "WARNING:root: [*] Tue Nov  5 16:15:10 2024: Train Epoch: 4 [102400/346689 (29%)]\tLoss: 0.018337\tAccuracy: 99.16 | Elapsed: 65.64s\n",
      "WARNING:root: [*] Tue Nov  5 16:16:15 2024: Train Epoch: 4 [204800/346689 (59%)]\tLoss: 0.019481\tAccuracy: 99.16 | Elapsed: 64.97s\n",
      "WARNING:root: [*] Tue Nov  5 16:17:20 2024: Train Epoch: 4 [307200/346689 (88%)]\tLoss: 0.019162\tAccuracy: 99.17 | Elapsed: 64.65s\n",
      "WARNING:root: [*] Tue Nov  5 16:17:45 2024:    5    | Tr.loss:   0.017642   | Tr.acc.:   99.17   |  220.70  \n",
      "WARNING:root: [*] Started epoch: 5\n",
      "WARNING:root: [*] Tue Nov  5 16:17:45 2024: Train Epoch: 5 [0/346689 (0%)]\tLoss: 0.024252\tAccuracy: 98.63 | Elapsed: 0.67s\n",
      "WARNING:root: [*] Tue Nov  5 16:18:50 2024: Train Epoch: 5 [102400/346689 (29%)]\tLoss: 0.022010\tAccuracy: 99.20 | Elapsed: 65.06s\n",
      "WARNING:root: [*] Tue Nov  5 16:19:57 2024: Train Epoch: 5 [204800/346689 (59%)]\tLoss: 0.014454\tAccuracy: 99.18 | Elapsed: 66.67s\n",
      "WARNING:root: [*] Tue Nov  5 16:21:03 2024: Train Epoch: 5 [307200/346689 (88%)]\tLoss: 0.024774\tAccuracy: 99.20 | Elapsed: 66.04s\n",
      "WARNING:root: [*] Tue Nov  5 16:21:27 2024:    6    | Tr.loss:   0.016960   | Tr.acc.:   99.20   |  222.46  \n",
      "WARNING:root: [*] Started epoch: 6\n",
      "WARNING:root: [*] Tue Nov  5 16:21:28 2024: Train Epoch: 6 [0/346689 (0%)]\tLoss: 0.017487\tAccuracy: 98.83 | Elapsed: 0.64s\n",
      "WARNING:root: [*] Tue Nov  5 16:22:32 2024: Train Epoch: 6 [102400/346689 (29%)]\tLoss: 0.017880\tAccuracy: 99.24 | Elapsed: 64.40s\n",
      "WARNING:root: [*] Tue Nov  5 16:23:37 2024: Train Epoch: 6 [204800/346689 (59%)]\tLoss: 0.012863\tAccuracy: 99.24 | Elapsed: 65.12s\n",
      "WARNING:root: [*] Tue Nov  5 16:24:39 2024: Train Epoch: 6 [307200/346689 (88%)]\tLoss: 0.017565\tAccuracy: 99.24 | Elapsed: 61.63s\n",
      "WARNING:root: [*] Tue Nov  5 16:25:02 2024:    7    | Tr.loss:   0.015891   | Tr.acc.:   99.22   |  214.74  \n",
      "WARNING:root: [*] Started epoch: 7\n",
      "WARNING:root: [*] Tue Nov  5 16:25:02 2024: Train Epoch: 7 [0/346689 (0%)]\tLoss: 0.012553\tAccuracy: 99.41 | Elapsed: 0.61s\n",
      "WARNING:root: [*] Tue Nov  5 16:26:05 2024: Train Epoch: 7 [102400/346689 (29%)]\tLoss: 0.016908\tAccuracy: 99.28 | Elapsed: 62.23s\n",
      "WARNING:root: [*] Tue Nov  5 16:27:11 2024: Train Epoch: 7 [204800/346689 (59%)]\tLoss: 0.011807\tAccuracy: 99.28 | Elapsed: 66.77s\n",
      "WARNING:root: [*] Tue Nov  5 16:28:22 2024: Train Epoch: 7 [307200/346689 (88%)]\tLoss: 0.019867\tAccuracy: 99.26 | Elapsed: 70.15s\n",
      "WARNING:root: [*] Tue Nov  5 16:28:47 2024:    8    | Tr.loss:   0.015169   | Tr.acc.:   99.26   |  225.53  \n",
      "WARNING:root: [*] Started epoch: 8\n",
      "WARNING:root: [*] Tue Nov  5 16:28:48 2024: Train Epoch: 8 [0/346689 (0%)]\tLoss: 0.012398\tAccuracy: 99.22 | Elapsed: 0.68s\n",
      "WARNING:root: [*] Tue Nov  5 16:29:56 2024: Train Epoch: 8 [102400/346689 (29%)]\tLoss: 0.010496\tAccuracy: 99.33 | Elapsed: 67.81s\n",
      "WARNING:root: [*] Tue Nov  5 16:31:03 2024: Train Epoch: 8 [204800/346689 (59%)]\tLoss: 0.010888\tAccuracy: 99.32 | Elapsed: 67.50s\n",
      "WARNING:root: [*] Tue Nov  5 16:32:10 2024: Train Epoch: 8 [307200/346689 (88%)]\tLoss: 0.014456\tAccuracy: 99.32 | Elapsed: 67.06s\n",
      "WARNING:root: [*] Tue Nov  5 16:32:37 2024:    9    | Tr.loss:   0.013743   | Tr.acc.:   99.32   |  230.05  \n",
      "WARNING:root: [*] Started epoch: 9\n",
      "WARNING:root: [*] Tue Nov  5 16:32:38 2024: Train Epoch: 9 [0/346689 (0%)]\tLoss: 0.014224\tAccuracy: 99.51 | Elapsed: 0.64s\n",
      "WARNING:root: [*] Tue Nov  5 16:33:41 2024: Train Epoch: 9 [102400/346689 (29%)]\tLoss: 0.009882\tAccuracy: 99.38 | Elapsed: 62.68s\n",
      "WARNING:root: [*] Tue Nov  5 16:34:49 2024: Train Epoch: 9 [204800/346689 (59%)]\tLoss: 0.005960\tAccuracy: 99.37 | Elapsed: 67.92s\n",
      "WARNING:root: [*] Tue Nov  5 16:35:55 2024: Train Epoch: 9 [307200/346689 (88%)]\tLoss: 0.014886\tAccuracy: 99.37 | Elapsed: 66.67s\n",
      "WARNING:root: [*] Tue Nov  5 16:36:19 2024:   10    | Tr.loss:   0.013167   | Tr.acc.:   99.37   |  222.06  \n",
      "WARNING:root: [*] Started epoch: 10\n",
      "WARNING:root: [*] Tue Nov  5 16:36:20 2024: Train Epoch: 10 [0/346689 (0%)]\tLoss: 0.010713\tAccuracy: 99.41 | Elapsed: 0.63s\n",
      "WARNING:root: [*] Tue Nov  5 16:37:25 2024: Train Epoch: 10 [102400/346689 (29%)]\tLoss: 0.012115\tAccuracy: 99.46 | Elapsed: 64.53s\n",
      "WARNING:root: [*] Tue Nov  5 16:38:28 2024: Train Epoch: 10 [204800/346689 (59%)]\tLoss: 0.013111\tAccuracy: 99.43 | Elapsed: 63.39s\n",
      "WARNING:root: [*] Tue Nov  5 16:39:31 2024: Train Epoch: 10 [307200/346689 (88%)]\tLoss: 0.010396\tAccuracy: 99.43 | Elapsed: 62.98s\n",
      "WARNING:root: [*] Tue Nov  5 16:39:54 2024:   11    | Tr.loss:   0.012096   | Tr.acc.:   99.43   |  214.99  \n",
      "WARNING:root: [*] Started epoch: 11\n",
      "WARNING:root: [*] Tue Nov  5 16:39:55 2024: Train Epoch: 11 [0/346689 (0%)]\tLoss: 0.012726\tAccuracy: 99.32 | Elapsed: 0.61s\n",
      "WARNING:root: [*] Tue Nov  5 16:40:58 2024: Train Epoch: 11 [102400/346689 (29%)]\tLoss: 0.005843\tAccuracy: 99.56 | Elapsed: 62.60s\n",
      "WARNING:root: [*] Tue Nov  5 16:42:02 2024: Train Epoch: 11 [204800/346689 (59%)]\tLoss: 0.009552\tAccuracy: 99.54 | Elapsed: 64.55s\n",
      "WARNING:root: [*] Tue Nov  5 16:43:07 2024: Train Epoch: 11 [307200/346689 (88%)]\tLoss: 0.008747\tAccuracy: 99.49 | Elapsed: 65.15s\n",
      "WARNING:root: [*] Tue Nov  5 16:43:32 2024:   12    | Tr.loss:   0.011214   | Tr.acc.:   99.49   |  217.46  \n",
      "WARNING:root: [*] Started epoch: 12\n",
      "WARNING:root: [*] Tue Nov  5 16:43:33 2024: Train Epoch: 12 [0/346689 (0%)]\tLoss: 0.012275\tAccuracy: 99.32 | Elapsed: 0.67s\n",
      "WARNING:root: [*] Tue Nov  5 16:44:39 2024: Train Epoch: 12 [102400/346689 (29%)]\tLoss: 0.007004\tAccuracy: 99.56 | Elapsed: 66.44s\n",
      "WARNING:root: [*] Tue Nov  5 16:45:43 2024: Train Epoch: 12 [204800/346689 (59%)]\tLoss: 0.010352\tAccuracy: 99.53 | Elapsed: 63.73s\n",
      "WARNING:root: [*] Tue Nov  5 16:46:48 2024: Train Epoch: 12 [307200/346689 (88%)]\tLoss: 0.012458\tAccuracy: 99.53 | Elapsed: 65.11s\n",
      "WARNING:root: [*] Tue Nov  5 16:47:13 2024:   13    | Tr.loss:   0.010591   | Tr.acc.:   99.52   |  221.18  \n",
      "WARNING:root: [*] Started epoch: 13\n",
      "WARNING:root: [*] Tue Nov  5 16:47:14 2024: Train Epoch: 13 [0/346689 (0%)]\tLoss: 0.002890\tAccuracy: 100.00 | Elapsed: 0.69s\n",
      "WARNING:root: [*] Tue Nov  5 16:48:24 2024: Train Epoch: 13 [102400/346689 (29%)]\tLoss: 0.008991\tAccuracy: 99.61 | Elapsed: 69.87s\n",
      "WARNING:root: [*] Tue Nov  5 16:49:30 2024: Train Epoch: 13 [204800/346689 (59%)]\tLoss: 0.008345\tAccuracy: 99.57 | Elapsed: 66.07s\n",
      "WARNING:root: [*] Tue Nov  5 16:50:35 2024: Train Epoch: 13 [307200/346689 (88%)]\tLoss: 0.007147\tAccuracy: 99.57 | Elapsed: 65.46s\n",
      "WARNING:root: [*] Tue Nov  5 16:51:00 2024:   14    | Tr.loss:   0.009752   | Tr.acc.:   99.57   |  226.78  \n",
      "WARNING:root: [*] Started epoch: 14\n",
      "WARNING:root: [*] Tue Nov  5 16:51:00 2024: Train Epoch: 14 [0/346689 (0%)]\tLoss: 0.006935\tAccuracy: 99.80 | Elapsed: 0.60s\n",
      "WARNING:root: [*] Tue Nov  5 16:52:02 2024: Train Epoch: 14 [102400/346689 (29%)]\tLoss: 0.006485\tAccuracy: 99.63 | Elapsed: 61.69s\n",
      "WARNING:root: [*] Tue Nov  5 16:53:05 2024: Train Epoch: 14 [204800/346689 (59%)]\tLoss: 0.008458\tAccuracy: 99.62 | Elapsed: 62.78s\n",
      "WARNING:root: [*] Tue Nov  5 16:54:09 2024: Train Epoch: 14 [307200/346689 (88%)]\tLoss: 0.014918\tAccuracy: 99.61 | Elapsed: 63.59s\n",
      "WARNING:root: [*] Tue Nov  5 16:54:32 2024:   15    | Tr.loss:   0.009166   | Tr.acc.:   99.61   |  212.05  \n",
      "WARNING:root: [*] Started epoch: 15\n",
      "WARNING:root: [*] Tue Nov  5 16:54:33 2024: Train Epoch: 15 [0/346689 (0%)]\tLoss: 0.005337\tAccuracy: 99.80 | Elapsed: 0.59s\n",
      "WARNING:root: [*] Tue Nov  5 16:55:36 2024: Train Epoch: 15 [102400/346689 (29%)]\tLoss: 0.021680\tAccuracy: 99.65 | Elapsed: 63.53s\n",
      "WARNING:root: [*] Tue Nov  5 16:56:39 2024: Train Epoch: 15 [204800/346689 (59%)]\tLoss: 0.007916\tAccuracy: 99.63 | Elapsed: 63.05s\n",
      "WARNING:root: [*] Tue Nov  5 16:57:41 2024: Train Epoch: 15 [307200/346689 (88%)]\tLoss: 0.010088\tAccuracy: 99.63 | Elapsed: 61.98s\n",
      "WARNING:root: [*] Tue Nov  5 16:58:04 2024:   16    | Tr.loss:   0.008792   | Tr.acc.:   99.63   |  212.10  \n",
      "WARNING:root: [*] Started epoch: 16\n",
      "WARNING:root: [*] Tue Nov  5 16:58:05 2024: Train Epoch: 16 [0/346689 (0%)]\tLoss: 0.014193\tAccuracy: 99.32 | Elapsed: 0.61s\n",
      "WARNING:root: [*] Tue Nov  5 16:59:08 2024: Train Epoch: 16 [102400/346689 (29%)]\tLoss: 0.007398\tAccuracy: 99.70 | Elapsed: 63.72s\n",
      "WARNING:root: [*] Tue Nov  5 17:00:12 2024: Train Epoch: 16 [204800/346689 (59%)]\tLoss: 0.012494\tAccuracy: 99.67 | Elapsed: 63.67s\n",
      "WARNING:root: [*] Tue Nov  5 17:01:12 2024: Train Epoch: 16 [307200/346689 (88%)]\tLoss: 0.002553\tAccuracy: 99.67 | Elapsed: 60.39s\n",
      "WARNING:root: [*] Tue Nov  5 17:01:36 2024:   17    | Tr.loss:   0.007815   | Tr.acc.:   99.67   |  211.67  \n",
      "WARNING:root: [*] Started epoch: 17\n",
      "WARNING:root: [*] Tue Nov  5 17:01:36 2024: Train Epoch: 17 [0/346689 (0%)]\tLoss: 0.003350\tAccuracy: 99.90 | Elapsed: 0.64s\n",
      "WARNING:root: [*] Tue Nov  5 17:02:36 2024: Train Epoch: 17 [102400/346689 (29%)]\tLoss: 0.001840\tAccuracy: 99.72 | Elapsed: 59.55s\n",
      "WARNING:root: [*] Tue Nov  5 17:03:37 2024: Train Epoch: 17 [204800/346689 (59%)]\tLoss: 0.011035\tAccuracy: 99.71 | Elapsed: 61.42s\n",
      "WARNING:root: [*] Tue Nov  5 17:04:39 2024: Train Epoch: 17 [307200/346689 (88%)]\tLoss: 0.008299\tAccuracy: 99.70 | Elapsed: 62.04s\n",
      "WARNING:root: [*] Tue Nov  5 17:05:02 2024:   18    | Tr.loss:   0.007514   | Tr.acc.:   99.69   |  206.26  \n",
      "WARNING:root: [*] Started epoch: 18\n",
      "WARNING:root: [*] Tue Nov  5 17:05:03 2024: Train Epoch: 18 [0/346689 (0%)]\tLoss: 0.009144\tAccuracy: 99.32 | Elapsed: 0.64s\n",
      "WARNING:root: [*] Tue Nov  5 17:06:06 2024: Train Epoch: 18 [102400/346689 (29%)]\tLoss: 0.008488\tAccuracy: 99.71 | Elapsed: 63.24s\n",
      "WARNING:root: [*] Tue Nov  5 17:07:08 2024: Train Epoch: 18 [204800/346689 (59%)]\tLoss: 0.004583\tAccuracy: 99.71 | Elapsed: 61.91s\n",
      "WARNING:root: [*] Tue Nov  5 17:08:19 2024: Train Epoch: 18 [307200/346689 (88%)]\tLoss: 0.012867\tAccuracy: 99.71 | Elapsed: 70.88s\n",
      "WARNING:root: [*] Tue Nov  5 17:08:44 2024:   19    | Tr.loss:   0.007126   | Tr.acc.:   99.71   |  221.90  \n",
      "WARNING:root: [*] Started epoch: 19\n",
      "WARNING:root: [*] Tue Nov  5 17:08:45 2024: Train Epoch: 19 [0/346689 (0%)]\tLoss: 0.009286\tAccuracy: 99.61 | Elapsed: 0.64s\n",
      "WARNING:root: [*] Tue Nov  5 17:09:49 2024: Train Epoch: 19 [102400/346689 (29%)]\tLoss: 0.006197\tAccuracy: 99.77 | Elapsed: 64.80s\n",
      "WARNING:root: [*] Tue Nov  5 17:10:54 2024: Train Epoch: 19 [204800/346689 (59%)]\tLoss: 0.005183\tAccuracy: 99.76 | Elapsed: 64.22s\n",
      "WARNING:root: [*] Tue Nov  5 17:11:56 2024: Train Epoch: 19 [307200/346689 (88%)]\tLoss: 0.012193\tAccuracy: 99.75 | Elapsed: 62.93s\n",
      "WARNING:root: [*] Tue Nov  5 17:12:21 2024:   20    | Tr.loss:   0.006356   | Tr.acc.:   99.75   |  217.24  \n",
      "WARNING:root: [*] Started epoch: 20\n",
      "WARNING:root: [*] Tue Nov  5 17:12:22 2024: Train Epoch: 20 [0/346689 (0%)]\tLoss: 0.006168\tAccuracy: 99.80 | Elapsed: 0.66s\n",
      "WARNING:root: [*] Tue Nov  5 17:13:25 2024: Train Epoch: 20 [102400/346689 (29%)]\tLoss: 0.006827\tAccuracy: 99.79 | Elapsed: 63.63s\n",
      "WARNING:root: [*] Tue Nov  5 17:14:27 2024: Train Epoch: 20 [204800/346689 (59%)]\tLoss: 0.003305\tAccuracy: 99.76 | Elapsed: 62.00s\n",
      "WARNING:root: [*] Tue Nov  5 17:15:29 2024: Train Epoch: 20 [307200/346689 (88%)]\tLoss: 0.004755\tAccuracy: 99.76 | Elapsed: 62.06s\n",
      "WARNING:root: [*] Tue Nov  5 17:15:54 2024:   21    | Tr.loss:   0.006121   | Tr.acc.:   99.76   |  212.40  \n",
      "WARNING:root: [*] Started epoch: 21\n",
      "WARNING:root: [*] Tue Nov  5 17:15:54 2024: Train Epoch: 21 [0/346689 (0%)]\tLoss: 0.008320\tAccuracy: 99.61 | Elapsed: 0.63s\n",
      "WARNING:root: [*] Tue Nov  5 17:16:57 2024: Train Epoch: 21 [102400/346689 (29%)]\tLoss: 0.011749\tAccuracy: 99.79 | Elapsed: 63.28s\n",
      "WARNING:root:\n",
      "        [!] Tue Nov  5 17:17:11 2024: Dumped results:\n",
      "                model: 1730827031-model.torch\n",
      "                train loss list: 1730827031-train_losses.pickle\n",
      "                train metrics : 1730827031-train_metrics.pickle\n",
      "                duration: 1730827031-duration.pickle\n"
     ]
    }
   ],
   "source": [
    "device = torch.device('cuda' if torch.cuda.is_available() else 'cpu')\n",
    "quovadis_path = Filepath(keep_bytes, device, embedding_dim=EMBEDDING_SIZE)\n",
    "optimizer = optim.Adam(quovadis_path.model.parameters(), lr=1e-3, \n",
    "                       weight_decay=0)\n",
    "loss_function = nn.CrossEntropyLoss()\n",
    "quovadis_path.fit(N_EPOCHS, optimizer, loss_function, train_loader)"
   ]
  }
 ],
 "metadata": {
  "kernelspec": {
   "display_name": "newQuoVadisEnv",
   "language": "python",
   "name": "python3"
  },
  "language_info": {
   "codemirror_mode": {
    "name": "ipython",
    "version": 3
   },
   "file_extension": ".py",
   "mimetype": "text/x-python",
   "name": "python",
   "nbconvert_exporter": "python",
   "pygments_lexer": "ipython3",
   "version": "3.9.20"
  }
 },
 "nbformat": 4,
 "nbformat_minor": 2
}
