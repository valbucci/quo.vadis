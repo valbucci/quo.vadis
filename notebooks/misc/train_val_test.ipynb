{
 "cells": [
  {
   "cell_type": "markdown",
   "metadata": {},
   "source": [
    "# Reproducing Fitting Process"
   ]
  },
  {
   "cell_type": "markdown",
   "metadata": {},
   "source": [
    "## Imports"
   ]
  },
  {
   "cell_type": "markdown",
   "metadata": {},
   "source": [
    "### Standard Library Imports"
   ]
  },
  {
   "cell_type": "code",
   "execution_count": 3,
   "metadata": {},
   "outputs": [],
   "source": [
    "from pathlib import Path\n",
    "import pickle\n",
    "import numpy as np\n",
    "\n",
    "REPO_ROOT = Path(\"../../\")"
   ]
  },
  {
   "cell_type": "markdown",
   "metadata": {},
   "source": [
    "## General Utilities"
   ]
  },
  {
   "cell_type": "code",
   "execution_count": 4,
   "metadata": {},
   "outputs": [],
   "source": [
    "def assert_paths_exist(paths:list[Path]) -> None:\n",
    "    for path in paths:\n",
    "        try:\n",
    "            assert path.exists()\n",
    "        except AssertionError:\n",
    "            raise AssertionError(f\"Could not find {path.abs()}.\")\n",
    "        \n",
    "        \n",
    "def pickle_load_paths(paths:list[Path]) -> tuple[any]:\n",
    "    assert_paths_exist(paths)\n",
    "    loaded_list = []\n",
    "    for path in paths:\n",
    "        with open(path, \"rb\") as file:\n",
    "            unpickled = pickle.load(file)\n",
    "            loaded_list.append(unpickled)\n",
    "            \n",
    "    return tuple(loaded_list)\n",
    "\n",
    "\n",
    "\n",
    "def numpy_load_paths(paths:list[Path]) -> tuple[any]:\n",
    "    assert_paths_exist(paths)\n",
    "    loaded_list = []\n",
    "    for path in paths:\n",
    "        loaded = np.load(path)\n",
    "        loaded_list.append(loaded)\n",
    "            \n",
    "    return tuple(loaded_list)\n"
   ]
  },
  {
   "cell_type": "markdown",
   "metadata": {},
   "source": [
    "## Setup"
   ]
  },
  {
   "cell_type": "code",
   "execution_count": 5,
   "metadata": {},
   "outputs": [],
   "source": [
    "TRAINING_DATASET_PATH = REPO_ROOT.joinpath(\"data/train_val_test_sets\")\n",
    "\n",
    "X_train_path = TRAINING_DATASET_PATH.joinpath(\"X_train.pickle.set\")\n",
    "X_test_path = TRAINING_DATASET_PATH.joinpath(\"X_test.pickle.set\")\n",
    "X_val_path = TRAINING_DATASET_PATH.joinpath(\"X_val.pickle.set\")\n",
    "\n",
    "y_train_path = TRAINING_DATASET_PATH.joinpath(\"y_train.arr\")\n",
    "y_test_path = TRAINING_DATASET_PATH.joinpath(\"y_test.arr\")\n",
    "y_val_path = TRAINING_DATASET_PATH.joinpath(\"y_val.arr\")\n",
    "\n",
    "X_train, X_test, X_val = pickle_load_paths([X_train_path, X_test_path, \n",
    "                                            X_val_path])\n",
    "y_train, y_test, y_val = numpy_load_paths([y_train_path, y_test_path, \n",
    "                                           y_val_path])\n"
   ]
  },
  {
   "cell_type": "code",
   "execution_count": 6,
   "metadata": {},
   "outputs": [
    {
     "name": "stdout",
     "output_type": "stream",
     "text": [
      "976c215002b82debe3023a8e5e2c9f88714a9daa0f180151c66e6def19973f62 1.0\n"
     ]
    }
   ],
   "source": [
    "print(X_train[0], y_train[0])"
   ]
  }
 ],
 "metadata": {
  "kernelspec": {
   "display_name": "myQuoVadisEnv",
   "language": "python",
   "name": "python3"
  },
  "language_info": {
   "codemirror_mode": {
    "name": "ipython",
    "version": 3
   },
   "file_extension": ".py",
   "mimetype": "text/x-python",
   "name": "python",
   "nbconvert_exporter": "python",
   "pygments_lexer": "ipython3",
   "version": "3.9.20"
  }
 },
 "nbformat": 4,
 "nbformat_minor": 2
}
